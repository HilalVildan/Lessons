{
 "cells": [
  {
   "cell_type": "code",
   "execution_count": null,
   "metadata": {},
   "outputs": [],
   "source": [
    "# 3 kez yanlis olursa hakkiniz doldu\n",
    "\n",
    "sayac = 0\n",
    "while True:\n",
    "    password = input(\"Passxord giriniz..:\")\n",
    "    if password == \"clarusway\":\n",
    "        print(\"Hos geldiniz...\")\n",
    "        break\n",
    "    sayac +=1\n",
    "    if sayac == 3:\n",
    "        print(\"Hakkiniz doldu\")\n",
    "        break\n",
    "\n"
   ]
  },
  {
   "cell_type": "code",
   "execution_count": null,
   "metadata": {},
   "outputs": [],
   "source": [
    "sayac = 0\n",
    "while sayac < 3:\n",
    "    password = input(\"Passxord giriniz..:\")\n",
    "    if password == \"clarusway\":\n",
    "        print(\"Hos geldiniz...\")\n",
    "        break\n",
    "    sayac +=1\n",
    "    if sayac == 3:\n",
    "        print(\"Hakkiniz doldu\")\n",
    "        break"
   ]
  },
  {
   "cell_type": "code",
   "execution_count": null,
   "metadata": {},
   "outputs": [],
   "source": []
  }
 ],
 "metadata": {
  "language_info": {
   "name": "python"
  },
  "orig_nbformat": 4
 },
 "nbformat": 4,
 "nbformat_minor": 2
}
