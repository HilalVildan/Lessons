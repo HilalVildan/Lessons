{
 "cells": [
  {
   "cell_type": "code",
   "execution_count": 1,
   "metadata": {},
   "outputs": [
    {
     "name": "stdout",
     "output_type": "stream",
     "text": [
      "6006462739341400799568660798909775498706944\n"
     ]
    }
   ],
   "source": [
    "def calculator(a,b,operator):\n",
    "    if operator == \"+\":\n",
    "        print(a+b)\n",
    "    elif operator == \"-\":\n",
    "        print(a-b)\n",
    "    elif operator == \"*\":\n",
    "        print(a*b)\n",
    "    elif operator == \"/\":\n",
    "        print(a/b)\n",
    "    elif operator == \"^\":\n",
    "        print(pow(a,b))\n",
    "    else:\n",
    "        print(\"hatali islem\")\n",
    "\n",
    "calculator(88,22,\"^\")"
   ]
  }
 ],
 "metadata": {
  "interpreter": {
   "hash": "aee8b7b246df8f9039afb4144a1f6fd8d2ca17a180786b69acc140d282b71a49"
  },
  "kernelspec": {
   "display_name": "Python 3.10.4 64-bit",
   "language": "python",
   "name": "python3"
  },
  "language_info": {
   "codemirror_mode": {
    "name": "ipython",
    "version": 3
   },
   "file_extension": ".py",
   "mimetype": "text/x-python",
   "name": "python",
   "nbconvert_exporter": "python",
   "pygments_lexer": "ipython3",
   "version": "3.10.4"
  },
  "orig_nbformat": 4
 },
 "nbformat": 4,
 "nbformat_minor": 2
}
