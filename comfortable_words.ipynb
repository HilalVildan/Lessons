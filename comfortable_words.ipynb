{
 "cells": [
  {
   "cell_type": "code",
   "execution_count": null,
   "metadata": {},
   "outputs": [],
   "source": [
    "# Left: q, w, e, r, t, a, s, d, f, g, z, x, c, v, b.\n",
    "    \n",
    "# Right: y, u, i, o, p, h, j, k, l, n, m."
   ]
  },
  {
   "cell_type": "code",
   "execution_count": 3,
   "metadata": {},
   "outputs": [
    {
     "name": "stdout",
     "output_type": "stream",
     "text": [
      "Yes, this is a comfortable word\n"
     ]
    }
   ],
   "source": [
    "comfy_word = input(\"Please enter a comfortable word: \").lower()\n",
    "set_comfy_word = a = set(list(comfy_word))\n",
    "left = [\"q\", \"w\", \"e\", \"r\", \"t\", \"a\", \"s\", \"d\", \"f\", \"g\", \"z\", \"x\", \"c\", \"v\", \"b\"]\n",
    "right = [\"y\", \"u\", \"i\", \"o\", \"p\", \"h\", \"j\", \"k\", \"l\", \"n\", \"m\"]\n",
    "\n",
    "y = a.intersection(left)\n",
    "z = a.intersection(right)\n",
    "\n",
    "\n",
    "if y and z:\n",
    "    print(\"Yes, this is a comfortable word\")\n",
    "else:\n",
    "    print(\":(, Try again!\")"
   ]
  }
 ],
 "metadata": {
  "interpreter": {
   "hash": "aee8b7b246df8f9039afb4144a1f6fd8d2ca17a180786b69acc140d282b71a49"
  },
  "kernelspec": {
   "display_name": "Python 3.10.4 64-bit",
   "language": "python",
   "name": "python3"
  },
  "language_info": {
   "codemirror_mode": {
    "name": "ipython",
    "version": 3
   },
   "file_extension": ".py",
   "mimetype": "text/x-python",
   "name": "python",
   "nbconvert_exporter": "python",
   "pygments_lexer": "ipython3",
   "version": "3.10.4"
  },
  "orig_nbformat": 4
 },
 "nbformat": 4,
 "nbformat_minor": 2
}
