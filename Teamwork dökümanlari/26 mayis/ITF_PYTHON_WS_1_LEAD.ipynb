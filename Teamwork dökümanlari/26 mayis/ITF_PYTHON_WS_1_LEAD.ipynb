{
  "cells": [
    {
      "cell_type": "markdown",
      "id": "cec2380e",
      "metadata": {
        "id": "cec2380e"
      },
      "source": [
        "### Code Challenge -1\n",
        "\n",
        "<div class=\"alert alert-block alert-info\">\n",
        "    <b>💡Objective:</b>\n",
        "    <ul>\n",
        "        <li>To improve your <b>boolean logic</b> and <b>arithmetic operator algorithm</b>&nbsp;skills.</li>\n",
        "    </ul>\n",
        "</div>\n",
        "\n",
        "- Using the all following items once each, set a correct boolean expression that returns `write me`. Use the `print()` function to display the result.\n",
        "\n",
        "```python\n",
        "0\n",
        "and\n",
        "not\n",
        "\"write me\"\n",
        "```"
      ]
    },
    {
      "cell_type": "code",
      "execution_count": 1,
      "id": "f591cc23",
      "metadata": {
        "id": "f591cc23"
      },
      "outputs": [
        {
          "name": "stdout",
          "output_type": "stream",
          "text": [
            "write me\n"
          ]
        }
      ],
      "source": [
        "print(not 0 and \"write me\")    #####sdasjkdbasjkdna"
      ]
    },
    {
      "cell_type": "markdown",
      "id": "1203c30d",
      "metadata": {},
      "source": [
        "### Code Challenge-2\n",
        "\n",
        "Write a program that calculates body mass index from **height** and **weight** variables. \n",
        "\n",
        "Body mass index :  Weight / Height(m) * Height(m)"
      ]
    },
    {
      "cell_type": "code",
      "execution_count": 1,
      "id": "f5f5886d",
      "metadata": {},
      "outputs": [
        {
          "name": "stdout",
          "output_type": "stream",
          "text": [
            "Body mass index: 0.00234375\n"
          ]
        }
      ],
      "source": [
        "height=float(input(\"Enter your height (example: 1.85):\"))\n",
        "weight=int(input(\"Enter your weight (example: 75):\"))\n",
        "\n",
        "print(\"Body mass index:\",weight / (height ** 2))"
      ]
    },
    {
      "cell_type": "markdown",
      "id": "4b7623d7",
      "metadata": {},
      "source": [
        "### Code Challenge-3\n",
        "\n",
        "With your \\$ 200,  How many pieces of material can you get for $ 11 each? How much money do you have left after buying?"
      ]
    },
    {
      "cell_type": "code",
      "execution_count": 2,
      "id": "f52e722f",
      "metadata": {},
      "outputs": [
        {
          "name": "stdout",
          "output_type": "stream",
          "text": [
            "With your $200, 18 pieces of material you can get for $11 each.  The remaining money is $2\n"
          ]
        }
      ],
      "source": [
        "totalMoney = 200\n",
        "materialPrice = 11\n",
        "piece = 200 // 11\n",
        "remainingMoney = totalMoney % piece\n",
        "print(\"With your ${}, {} pieces of material you can get for ${} each.  The remaining money is ${}\".format(totalMoney, piece, materialPrice, remainingMoney))"
      ]
    },
    {
      "cell_type": "markdown",
      "id": "9f8abf9e",
      "metadata": {},
      "source": [
        "### Code Challenge-4\n",
        "\n",
        ">Do not run the code, try to figure out in your mind.\n",
        "\n",
        "What will be the output of the following syntax :\n",
        "\n",
        "```python\n",
        "print(True and False and (not True and False) and not (True or False))"
      ]
    },
    {
      "cell_type": "code",
      "execution_count": 4,
      "id": "1dd3d4a7",
      "metadata": {},
      "outputs": [
        {
          "name": "stdout",
          "output_type": "stream",
          "text": [
            "False\n"
          ]
        }
      ],
      "source": [
        "print(True and False and (not True and False) and not (True or False))"
      ]
    },
    {
      "cell_type": "markdown",
      "id": "657af681",
      "metadata": {},
      "source": [
        "### Problem 5\n",
        "\n",
        ">Do not run the code, try to figure out in your mind.\n",
        "\n",
        "What will be the output of the following syntax :\n",
        "\n",
        "```python\n",
        "print(True and False and not \"False\" and None and (\"None\" or None))\n",
        "```"
      ]
    },
    {
      "cell_type": "code",
      "execution_count": 5,
      "id": "27c1949f",
      "metadata": {},
      "outputs": [
        {
          "name": "stdout",
          "output_type": "stream",
          "text": [
            "False\n"
          ]
        }
      ],
      "source": [
        "print(True and False and not \"False\" and None and (\"None\" or None))"
      ]
    },
    {
      "cell_type": "markdown",
      "id": "190ff125",
      "metadata": {},
      "source": [
        "### Code Challenge-6\n",
        "\n",
        ">Do not run the code, try to figure out in your mind.\n",
        "\n",
        "What will be the output of the following syntax :\n",
        "\n",
        "```python\n",
        "print(\"clarusway\" and 0 and not \"\" and False and (\" \" or None))\n",
        "```"
      ]
    },
    {
      "cell_type": "code",
      "execution_count": 6,
      "id": "3509f987",
      "metadata": {},
      "outputs": [
        {
          "name": "stdout",
          "output_type": "stream",
          "text": [
            "0\n"
          ]
        }
      ],
      "source": [
        "print(\"clarusway\" and 0 and not \"\" and False and (\" \" or None))"
      ]
    },
    {
      "cell_type": "markdown",
      "id": "68790182",
      "metadata": {},
      "source": [
        "### Code Challenge-7\n",
        "Ask the user for two numbers and assign these numbers to variables and replace the values of these variables with each other."
      ]
    },
    {
      "cell_type": "code",
      "execution_count": 7,
      "id": "e9f64811",
      "metadata": {},
      "outputs": [
        {
          "name": "stdout",
          "output_type": "stream",
          "text": [
            "Variables Before Replacing\n",
            "a= 2 b= 5\n",
            "Variables After Replacing\n",
            "a= 5 b= 2\n"
          ]
        }
      ],
      "source": [
        "a = 2\n",
        "b = 5\n",
        "\n",
        "print(\"Variables Before Replacing\\na= {} b= {}\".format(a, b))\n",
        "\n",
        "a, b = b, a\n",
        "\n",
        "print(\"Variables After Replacing\\na= {} b= {}\".format(a, b))"
      ]
    }
  ],
  "metadata": {
    "colab": {
      "collapsed_sections": [],
      "name": "workshop-2-python-student-version.ipynb",
      "provenance": [],
      "toc_visible": true
    },
    "interpreter": {
      "hash": "aee8b7b246df8f9039afb4144a1f6fd8d2ca17a180786b69acc140d282b71a49"
    },
    "kernelspec": {
      "display_name": "Python 3.10.4 64-bit",
      "language": "python",
      "name": "python3"
    },
    "language_info": {
      "codemirror_mode": {
        "name": "ipython",
        "version": 3
      },
      "file_extension": ".py",
      "mimetype": "text/x-python",
      "name": "python",
      "nbconvert_exporter": "python",
      "pygments_lexer": "ipython3",
      "version": "3.10.4"
    }
  },
  "nbformat": 4,
  "nbformat_minor": 5
}
