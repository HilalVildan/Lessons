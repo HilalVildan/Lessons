{
 "cells": [
  {
   "cell_type": "markdown",
   "metadata": {},
   "source": [
    "### Problem 1\n",
    "\n",
    "Get **word**, **seperator** and **repetition** values from the user and print the word on the screen according to the given values. \n",
    "\n",
    "Ex: word = ali sep = / repetition = 3 ----> ali/ali/ali"
   ]
  },
  {
   "cell_type": "code",
   "execution_count": 14,
   "metadata": {},
   "outputs": [
    {
     "name": "stdout",
     "output_type": "stream",
     "text": [
      "ali/ali/ali/ali/ali\n"
     ]
    }
   ],
   "source": [
    "word = input(\"Word..:\")\n",
    "seperator = input(\"Seperator..:\")\n",
    "repetition = int(input(\"Repetitions..:\"))\n",
    "\n",
    "a = (word + seperator) * repetition\n",
    "\n",
    "print(a[:len(a)-1]) \n"
   ]
  },
  {
   "cell_type": "markdown",
   "metadata": {},
   "source": [
    "### Problem 2\n",
    "\n",
    "Get a sitring and an integer input from the user and get the output shown as in the example.\n",
    "\n",
    "Ex: word = Clarusway n = 3 OUTPUT = waywayway"
   ]
  },
  {
   "cell_type": "code",
   "execution_count": 20,
   "metadata": {},
   "outputs": [
    {
     "name": "stdout",
     "output_type": "stream",
     "text": [
      "hilmihilmihilmihilmihilmihilmihilmi\n"
     ]
    }
   ],
   "source": [
    "word = input(\"word..:\")\n",
    "n = int(input(\"number\"))\n",
    "print(word[-n:]*n)\n"
   ]
  },
  {
   "cell_type": "markdown",
   "metadata": {},
   "source": [
    "### Problem 3\n",
    "\n",
    "Get a number from the user. \n",
    "\n",
    "If the number is divided by 3 print *Clarus*, if it is divided by 5 print *way*, if it is divided by both 3 and 5 print *Clarusway*. \n",
    "\n",
    "If not, print the number itself."
   ]
  },
  {
   "cell_type": "code",
   "execution_count": 1,
   "metadata": {},
   "outputs": [
    {
     "name": "stdout",
     "output_type": "stream",
     "text": [
      "Clarusway\n"
     ]
    }
   ],
   "source": [
    "number = int(input(\"number..:\"))\n",
    "\n",
    "print(\"Clarus\" * (number%3==0) + \"way\" * (number%5==0) or number)\n",
    "\n"
   ]
  },
  {
   "cell_type": "markdown",
   "metadata": {},
   "source": [
    "### Problem 4\n",
    "letters = \"abclarusxyz\"\n",
    "- get the word **clarus** in the string\n",
    "- get the word **cba**\n",
    "- print the last eight characters in reverse order"
   ]
  },
  {
   "cell_type": "code",
   "execution_count": 2,
   "metadata": {},
   "outputs": [
    {
     "name": "stdout",
     "output_type": "stream",
     "text": [
      "clarus\n"
     ]
    }
   ],
   "source": [
    "letters = \"abclarusxyz\"\n",
    "print(letters[2:8])"
   ]
  },
  {
   "cell_type": "code",
   "execution_count": 4,
   "metadata": {},
   "outputs": [
    {
     "name": "stdout",
     "output_type": "stream",
     "text": [
      "cba\n"
     ]
    }
   ],
   "source": [
    "print(letters[2::-1])"
   ]
  },
  {
   "cell_type": "code",
   "execution_count": 6,
   "metadata": {},
   "outputs": [
    {
     "name": "stdout",
     "output_type": "stream",
     "text": [
      "zyxsural\n"
     ]
    }
   ],
   "source": [
    "print(letters[:-9:-1])"
   ]
  },
  {
   "cell_type": "markdown",
   "metadata": {},
   "source": [
    "### Problem 5\n",
    "\n",
    "Print **Clarusway is the best** from the elements of the rand_list list.\n",
    "\n",
    "rand_list = [1,[1, 2, \"Clarus\", [2, \"way\"]], \" is the best\"]"
   ]
  },
  {
   "cell_type": "code",
   "execution_count": 10,
   "metadata": {},
   "outputs": [
    {
     "name": "stdout",
     "output_type": "stream",
     "text": [
      "Clarusway is the best\n"
     ]
    }
   ],
   "source": [
    "rand_list = [1,[1,2, \"Clarus\",[2,\"way\"]], \" is the best\"]\n",
    "print(rand_list[1][2] +rand_list[1][3][1] + rand_list[2])"
   ]
  },
  {
   "cell_type": "markdown",
   "metadata": {},
   "source": [
    "### Problem 6\n",
    "\n",
    "Sort the list given below in ascending order. Find the missing number from 1 to 10.\n",
    "\n",
    "num_list = [2, 3, 1, 5, 6, 4, 9, 8, 10]"
   ]
  },
  {
   "cell_type": "code",
   "execution_count": 11,
   "metadata": {},
   "outputs": [
    {
     "name": "stdout",
     "output_type": "stream",
     "text": [
      "[1, 2, 3, 4, 5, 6, 8, 9, 10]\n",
      "{7}\n"
     ]
    }
   ],
   "source": [
    "num_list = [2, 3, 1, 5, 6, 4, 9, 8, 10]\n",
    "sorted_list = sorted(num_list)\n",
    "print(sorted_list)\n",
    "set(sorted_list)\n",
    "print(set(range(1,10)).difference(sorted_list))"
   ]
  },
  {
   "cell_type": "markdown",
   "metadata": {},
   "source": [
    "### Problem 7\n",
    "\n",
    "Print the oldest person's name?"
   ]
  },
  {
   "cell_type": "code",
   "execution_count": 12,
   "metadata": {},
   "outputs": [
    {
     "name": "stdout",
     "output_type": "stream",
     "text": [
      "Emma\n"
     ]
    }
   ],
   "source": [
    "old ={\n",
    "  \"Emma\": 71,\n",
    "  \"Jack\": 45,\n",
    "  \"Amy\": 15,\n",
    "  \"Ben\": 29\n",
    "}\n",
    "print(max(old, key=old.get))\n",
    "\n"
   ]
  },
  {
   "cell_type": "markdown",
   "metadata": {},
   "source": [
    "### Problem 8\n",
    "\n",
    "Write a Python program to sum all the items in a dictionary.\n",
    "\n",
    "my_dict = {'data1':100,'data2':-54,'data3':247}"
   ]
  },
  {
   "cell_type": "code",
   "execution_count": 14,
   "metadata": {},
   "outputs": [
    {
     "name": "stdout",
     "output_type": "stream",
     "text": [
      "293\n"
     ]
    }
   ],
   "source": [
    "my_dict = {'data1':100,'data2':-54,'data3':247}\n",
    "\n",
    "print(sum(my_dict.values()))\n"
   ]
  },
  {
   "cell_type": "markdown",
   "metadata": {},
   "source": [
    "### Problem 9\n",
    "\n",
    "Write a Python program to compute average of two given lists.\n",
    "\n",
    "nums1 = [1, 1, 3, 4, 4, 5, 6, 7]\n",
    "nums2 = [0, 1, 2, 3, 4, 4, 5, 7, 8]"
   ]
  },
  {
   "cell_type": "code",
   "execution_count": 16,
   "metadata": {},
   "outputs": [],
   "source": [
    "nums1 = [1, 1, 3, 4, 4, 5, 6, 7]\n",
    "nums2 = [0, 1, 2, 3, 4, 4, 5, 7, 8]\n"
   ]
  },
  {
   "cell_type": "code",
   "execution_count": 17,
   "metadata": {},
   "outputs": [
    {
     "name": "stdout",
     "output_type": "stream",
     "text": [
      "3.823529411764706\n"
     ]
    }
   ],
   "source": [
    "result = sum(nums1 + nums2) / len(nums1 + nums2)\n",
    "print(result)"
   ]
  },
  {
   "cell_type": "code",
   "execution_count": null,
   "metadata": {},
   "outputs": [],
   "source": []
  }
 ],
 "metadata": {
  "interpreter": {
   "hash": "aee8b7b246df8f9039afb4144a1f6fd8d2ca17a180786b69acc140d282b71a49"
  },
  "kernelspec": {
   "display_name": "Python 3.10.4 64-bit",
   "language": "python",
   "name": "python3"
  },
  "language_info": {
   "codemirror_mode": {
    "name": "ipython",
    "version": 3
   },
   "file_extension": ".py",
   "mimetype": "text/x-python",
   "name": "python",
   "nbconvert_exporter": "python",
   "pygments_lexer": "ipython3",
   "version": "3.10.4"
  },
  "vscode": {
   "interpreter": {
    "hash": "08e595c52ca3b9470036b1110e67b559e55f367cabc363f2e28d35631ed95060"
   }
  }
 },
 "nbformat": 4,
 "nbformat_minor": 2
}
