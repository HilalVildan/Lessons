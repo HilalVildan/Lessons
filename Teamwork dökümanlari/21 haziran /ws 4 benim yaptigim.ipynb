{
 "cells": [
  {
   "cell_type": "markdown",
   "metadata": {},
   "source": [
    "### Problem 1\n",
    "\n",
    "Get **word**, **seperator** and **repetition** values from the user and print the word on the screen according to the given values. \n",
    "\n",
    "Ex: word = ali sep = / repetition = 3 ----> ali/ali/ali"
   ]
  },
  {
   "cell_type": "code",
   "execution_count": 5,
   "metadata": {},
   "outputs": [
    {
     "name": "stdout",
     "output_type": "stream",
     "text": [
      "naber/naber/naber\n"
     ]
    }
   ],
   "source": [
    "# alternatif hilal hanim\n",
    "word = input('word ')\n",
    "seperator = input('seperator')\n",
    "repetitions = int(input('repetations'))\n",
    "a = (word + seperator) * repetitions\n",
    "print(a[:len(a)-1])\n",
    "\n",
    "#alternatif halil bey\n",
    "word = input('Enter a word : ')\n",
    "seperator = input('Enter a seperator : ')\n",
    "rep = int(input('Enter a repetetion : '))\n",
    "print((word + seperator)*rep, '\\b\\b')\n",
    "\n",
    "#alterantif cagatay bey\n",
    "word = input(\"Tekrar edilecek kelimeyi giriniz  \")\n",
    "s= input(\"Seperator giriniz \")\n",
    "r= int(input(\"Tekrar sayisini giriniz  \"))\n",
    "cikti = [word]*r\n",
    "print(*cikti , sep=s)\n",
    "\n",
    "#cevap anahtari\n",
    "word = input('Please enter a word: ')\n",
    "seperator = input('Please enter a seperator: ')\n",
    "repetitions = int(input(\"Please enter how many repetitions you need: \"))\n",
    "result = (word + seperator) * (repetitions - 1) + word\n",
    "print(result)"
   ]
  },
  {
   "cell_type": "markdown",
   "metadata": {},
   "source": [
    "### Problem 2\n",
    "\n",
    "Get a sitring and an integer input from the user and get the output shown as in the example.\n",
    "\n",
    "Ex: word = Clarusway n = 3 OUTPUT = waywayway"
   ]
  },
  {
   "cell_type": "code",
   "execution_count": 9,
   "metadata": {},
   "outputs": [
    {
     "name": "stdout",
     "output_type": "stream",
     "text": [
      "aberaberaberaber\n"
     ]
    }
   ],
   "source": [
    "#alternatif ozkan bey\n",
    "word = list(input('Enter a word:'))\n",
    "n = int(input('Enter a number:'))\n",
    "print(''.join(word[-n:]) * n)\n",
    "\n",
    "\n",
    "\n",
    "\n",
    "\n",
    "\n",
    "#altenatif hilal hanim\n",
    "word = input('Please enter a word')\n",
    "number = int(input('Please enter a number'))\n",
    "result = word[-number:] * number\n",
    "print(result)\n",
    "\n"
   ]
  },
  {
   "cell_type": "code",
   "execution_count": 10,
   "metadata": {},
   "outputs": [
    {
     "name": "stdout",
     "output_type": "stream",
     "text": [
      "aberaberaberaber\n"
     ]
    }
   ],
   "source": [
    "#cevap anahtari\n",
    "word=input(\"Word:\")\n",
    "n=int(input(\"Repetitions of the last n character:\"))\n",
    "a=len(word)\n",
    "b=word[a-n:] \n",
    "print(b*n) "
   ]
  },
  {
   "cell_type": "markdown",
   "metadata": {},
   "source": [
    "### Problem 3\n",
    "\n",
    "Get a number from the user. \n",
    "\n",
    "If the number is divided by 3 print *Clarus*, if it is divided by 5 print *way*, if it is divided by both 3 and 5 print *Clarusway*. \n",
    "\n",
    "If not, print the number itself."
   ]
  },
  {
   "cell_type": "code",
   "execution_count": 38,
   "metadata": {},
   "outputs": [
    {
     "name": "stdout",
     "output_type": "stream",
     "text": [
      "Clarus\n",
      "Clarus\n"
     ]
    }
   ],
   "source": [
    "\n",
    "#benim cozumum\n",
    "number = int(input('Please enter a number'))\n",
    "\n",
    "if number % 3 == 0 and number % 5 == 0:\n",
    "    print('Clarusway')\n",
    "elif number % 5 == 0:\n",
    "    print('way')\n",
    "elif number % 3 == 0:\n",
    "    print('Clarus')\n",
    "else:\n",
    "    print(number)\n",
    "\n",
    "# Tek satir\n",
    "number = int(input('Please enter a number'))\n",
    "print(number % 3 == 0 and number % 5 == 0 and 'Clarusway' or number % 5 == 0 and 'way' or number % 3 == 0 and 'Clarus' or print(number))\n",
    "\n"
   ]
  },
  {
   "cell_type": "code",
   "execution_count": 17,
   "metadata": {},
   "outputs": [
    {
     "name": "stdout",
     "output_type": "stream",
     "text": [
      "\n",
      "43\n"
     ]
    }
   ],
   "source": [
    "#cevap anahtari\n",
    "num = int(input(\"Birsayı girin: \"))\n",
    "\n",
    "#True = 1\n",
    "#False = 0\n",
    "print('Clarus' * (num % 3 == 0) + 'way' * (num % 5 == 0) or num)"
   ]
  },
  {
   "cell_type": "markdown",
   "metadata": {},
   "source": [
    "### Problem 4\n",
    "letters = \"abclarusxyz\"\n",
    "- get the word **clarus** in the string\n",
    "- get the word **cba**\n",
    "- print the last eight characters in reverse order"
   ]
  },
  {
   "cell_type": "code",
   "execution_count": 23,
   "metadata": {},
   "outputs": [
    {
     "name": "stdout",
     "output_type": "stream",
     "text": [
      "clarus\n"
     ]
    }
   ],
   "source": [
    "letters = 'abclarusxyz'\n",
    "\n",
    "print(letters[2:8])"
   ]
  },
  {
   "cell_type": "code",
   "execution_count": 22,
   "metadata": {},
   "outputs": [
    {
     "name": "stdout",
     "output_type": "stream",
     "text": [
      "cba\n",
      "cba\n"
     ]
    }
   ],
   "source": [
    "#alternatif cagatay bey\n",
    "print(letters[:3][::-1])\n",
    "#cevap anahtari\n",
    "print(letters[2::-1])"
   ]
  },
  {
   "cell_type": "code",
   "execution_count": 21,
   "metadata": {},
   "outputs": [
    {
     "name": "stdout",
     "output_type": "stream",
     "text": [
      "zyxsural\n",
      "zyxsural\n"
     ]
    }
   ],
   "source": [
    "#alternatif cagatay bey\n",
    "print(letters[-8:][::-1])\n",
    "#cevap anahtari\n",
    "print(letters[:-9:-1])"
   ]
  },
  {
   "cell_type": "markdown",
   "metadata": {},
   "source": [
    "### Problem 5\n",
    "\n",
    "Print **Clarusway is the best** from the elements of the rand_list list.\n",
    "\n",
    "rand_list = [1,[1, 2, \"Clarus\", [2, \"way\"]], \" is the best\"]"
   ]
  },
  {
   "cell_type": "code",
   "execution_count": 24,
   "metadata": {},
   "outputs": [
    {
     "name": "stdout",
     "output_type": "stream",
     "text": [
      "Clarusway is the best\n"
     ]
    }
   ],
   "source": [
    "rand_list = [1,[1, 2, \"Clarus\", [2, \"way\"]], \" is the best\"]\n",
    "\n",
    "print(rand_list[1][2] +rand_list[1][3][1] + rand_list[2])"
   ]
  },
  {
   "cell_type": "markdown",
   "metadata": {},
   "source": [
    "### Problem 6\n",
    "\n",
    "Sort the list given below in ascending order. Find the missing number from 1 to 10.\n",
    "\n",
    "num_list = [2, 3, 1, 5, 6, 4, 9, 8, 10]"
   ]
  },
  {
   "cell_type": "code",
   "execution_count": 25,
   "metadata": {},
   "outputs": [
    {
     "name": "stdout",
     "output_type": "stream",
     "text": [
      "[1, 2, 3, 4, 5, 6, 8, 9, 10]\n",
      "{7}\n"
     ]
    }
   ],
   "source": [
    "#Benim cozumum\n",
    "num_list = [2, 3, 1, 5, 6, 4, 9, 8, 10]\n",
    "sorted_list = sorted(num_list)\n",
    "print(sorted_list)\n",
    "set(sorted_list)\n",
    "print(set(range(1,11)).difference(sorted_list))"
   ]
  },
  {
   "cell_type": "code",
   "execution_count": 26,
   "metadata": {},
   "outputs": [
    {
     "name": "stdout",
     "output_type": "stream",
     "text": [
      "[1, 2, 3, 4, 5, 6, 8, 9, 10]\n",
      "{7}\n"
     ]
    }
   ],
   "source": [
    "#cevap anahtari\n",
    "num_list = [2, 3, 1, 5, 6, 4, 9, 8, 10]\n",
    "a = sorted(num_list)\n",
    "print(a)\n",
    "list1 = set(range(1, 11))\n",
    "list2 = set(num_list)\n",
    "mis_num = list1.difference(list2)\n",
    "print(mis_num)"
   ]
  },
  {
   "cell_type": "markdown",
   "metadata": {},
   "source": [
    "### Problem 6\n",
    "\n",
    "Sort the list given below in ascending order. Find the missing number from 1 to 10.\n",
    "\n",
    "num_list = [2, 3, 1, 5, 6, 4, 9, 8, 10]"
   ]
  },
  {
   "cell_type": "code",
   "execution_count": 67,
   "metadata": {},
   "outputs": [],
   "source": [
    "num_list = [2, 3, 1, 5, 6, 4, 9, 8, 10]\n"
   ]
  },
  {
   "cell_type": "markdown",
   "metadata": {},
   "source": [
    "### Problem 7\n",
    "\n",
    "Print the oldest person's name?"
   ]
  },
  {
   "cell_type": "code",
   "execution_count": 34,
   "metadata": {},
   "outputs": [
    {
     "name": "stdout",
     "output_type": "stream",
     "text": [
      "Emma\n",
      "Emma\n"
     ]
    }
   ],
   "source": [
    "old ={\n",
    "  \"Emma\": 71,\n",
    "  \"Jack\": 45,\n",
    "  \"Amy\": 15,\n",
    "  \"Ben\": 29\n",
    "}\n",
    "\n",
    "#Alternatif cagatay bey\n",
    "list_values =list(old.values())\n",
    "list_keys= list(old.keys())\n",
    "yas_max = max(list_values)\n",
    "indis = list_values.index(yas_max) # .find methodu sadece stringler icin gecerli.\n",
    "print(list_keys[indis])\n",
    "\n",
    "\n",
    "\n",
    "\n",
    "#cevap anahtari\n",
    "print(max(old, key=old.get))\n",
    "\n",
    "\n"
   ]
  },
  {
   "cell_type": "markdown",
   "metadata": {},
   "source": [
    "### Problem 8\n",
    "\n",
    "Write a Python program to sum all the items in a dictionary.\n",
    "\n",
    "my_dict = {'data1':100,'data2':-54,'data3':247}"
   ]
  },
  {
   "cell_type": "code",
   "execution_count": 36,
   "metadata": {},
   "outputs": [
    {
     "name": "stdout",
     "output_type": "stream",
     "text": [
      "Sum of the items is  293\n",
      "293\n"
     ]
    }
   ],
   "source": [
    "my_dict = {'data1':100,'data2':-54,'data3':247}\n",
    "\n",
    "#alternatif halil bey\n",
    "my_list = list(my_dict.values())\n",
    "print('Sum of the items is ', sum(my_list))\n",
    "\n",
    "\n",
    "#cevap anahtari\n",
    "print(sum(my_dict.values()))\n"
   ]
  },
  {
   "cell_type": "markdown",
   "metadata": {},
   "source": [
    "### Problem 9\n",
    "\n",
    "Write a Python program to compute average of two given lists.\n",
    "\n",
    "nums1 = [1, 1, 3, 4, 4, 5, 6, 7]\n",
    "nums2 = [0, 1, 2, 3, 4, 4, 5, 7, 8]"
   ]
  },
  {
   "cell_type": "code",
   "execution_count": null,
   "metadata": {},
   "outputs": [],
   "source": [
    "nums1 = [1, 1, 3, 4, 4, 5, 6, 7]\n",
    "nums2 = [0, 1, 2, 3, 4, 4, 5, 7, 8]\n"
   ]
  },
  {
   "cell_type": "code",
   "execution_count": 37,
   "metadata": {},
   "outputs": [
    {
     "name": "stdout",
     "output_type": "stream",
     "text": [
      "3.823529411764706\n",
      "\n",
      "Average of two lists:\n",
      "3.823529411764706\n"
     ]
    }
   ],
   "source": [
    "# alternatif Benim cozumum\n",
    "nums1 = [1, 1, 3, 4, 4, 5, 6, 7]\n",
    "nums2 = [0, 1, 2, 3, 4, 4, 5, 7, 8]\n",
    "nums_together = nums1 + nums2\n",
    "result = sum(nums_together) / len(nums_together)\n",
    "print(result)\n",
    "\n",
    "#cevap anahtari\n",
    "nums1 = [1, 1, 3, 4, 4, 5, 6, 7]\n",
    "nums2 = [0, 1, 2, 3, 4, 4, 5, 7, 8]\n",
    "result = sum(nums1 + nums2) / len(nums1 + nums2)\n",
    "\n",
    "print(\"\\nAverage of two lists:\")\n",
    "print(result)"
   ]
  }
 ],
 "metadata": {
  "kernelspec": {
   "display_name": "Python 3.10.4 64-bit",
   "language": "python",
   "name": "python3"
  },
  "language_info": {
   "codemirror_mode": {
    "name": "ipython",
    "version": 3
   },
   "file_extension": ".py",
   "mimetype": "text/x-python",
   "name": "python",
   "nbconvert_exporter": "python",
   "pygments_lexer": "ipython3",
   "version": "3.10.4"
  },
  "vscode": {
   "interpreter": {
    "hash": "a42ccb73e7d9bfdf27e036f1d2b8b681e55fc0743cc5586bc2474d4a60f4b886"
   }
  }
 },
 "nbformat": 4,
 "nbformat_minor": 2
}
