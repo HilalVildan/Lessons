{
 "cells": [
  {
   "cell_type": "markdown",
   "metadata": {},
   "source": [
    "<p>Considering the code below, write code that prints out <strong>True!</strong> if <strong>x </strong>has 50 characters or more.</p>"
   ]
  },
  {
   "cell_type": "code",
   "execution_count": null,
   "metadata": {},
   "outputs": [],
   "source": [
    "x = \"The days of Python 2 are almost over. Python 3 is the king now.\"\n",
    "\n"
   ]
  },
  {
   "cell_type": "code",
   "execution_count": 1,
   "metadata": {},
   "outputs": [
    {
     "name": "stdout",
     "output_type": "stream",
     "text": [
      "True!\n"
     ]
    }
   ],
   "source": [
    "x = \"The days of Python 2 are almost over. Python 3 is the king now.\"\n",
    " \n",
    "if len(x) >= 50:\n",
    "    print(\"True!\")"
   ]
  },
  {
   "cell_type": "markdown",
   "metadata": {},
   "source": [
    "<p>Considering the code below, write code that prints out <strong>True!</strong> if <strong>x </strong>is a string and the first character in the string is <strong>T</strong>.</p>"
   ]
  },
  {
   "cell_type": "code",
   "execution_count": null,
   "metadata": {},
   "outputs": [],
   "source": [
    "x = \"The days of Python 2 are almost over. Python 3 is the king now.\"\n",
    "\n"
   ]
  },
  {
   "cell_type": "code",
   "execution_count": 2,
   "metadata": {},
   "outputs": [
    {
     "name": "stdout",
     "output_type": "stream",
     "text": [
      "True!\n"
     ]
    }
   ],
   "source": [
    "x = \"The days of Python 2 are almost over. Python 3 is the king now.\"\n",
    " \n",
    "if type(x) is str and x.startswith(\"T\"):\n",
    "    print(\"True!\")"
   ]
  },
  {
   "cell_type": "markdown",
   "metadata": {},
   "source": [
    "<p>Considering the code below, write code that prints out <strong>True!</strong> if at least one of the following conditions occurs: </p>\n",
    "<p>the string contains the character <strong>z </strong></p>\n",
    "<p>the string contains the character <strong>y </strong>at least twice</p>"
   ]
  },
  {
   "cell_type": "code",
   "execution_count": null,
   "metadata": {},
   "outputs": [],
   "source": [
    "x = \"The days of Python 2 are almost over. Python 3 is the king now.\""
   ]
  },
  {
   "cell_type": "code",
   "execution_count": 3,
   "metadata": {},
   "outputs": [
    {
     "name": "stdout",
     "output_type": "stream",
     "text": [
      "True!\n"
     ]
    }
   ],
   "source": [
    "x = \"The days of Python 2 are almost over. Python 3 is the king now.\"\n",
    " \n",
    "if \"z\" in x or x.count(\"y\") >= 2:\n",
    "    print(\"True!\")"
   ]
  },
  {
   "cell_type": "markdown",
   "metadata": {},
   "source": [
    "<p>Considering the code below, write code that prints out <strong>True!</strong> if the index of the first occurrence of letter <strong>f </strong>is less than 10 and prints out <strong>False!</strong> if the same condition is not satisfied.</p>"
   ]
  },
  {
   "cell_type": "code",
   "execution_count": 4,
   "metadata": {},
   "outputs": [],
   "source": [
    "x = \"The days of Python 2 are almost over. Python 3 is the king now.\""
   ]
  },
  {
   "cell_type": "code",
   "execution_count": 5,
   "metadata": {},
   "outputs": [
    {
     "name": "stdout",
     "output_type": "stream",
     "text": [
      "False!\n"
     ]
    }
   ],
   "source": [
    "x = \"The days of Python 2 are almost over. Python 3 is the king now.\"\n",
    " \n",
    "if x.index(\"f\") < 10:\n",
    "    print(\"True!\")\n",
    "else:\n",
    "    print(\"False!\")"
   ]
  },
  {
   "cell_type": "markdown",
   "metadata": {},
   "source": [
    "<p>Considering the code below, write code that prints out <strong>True!</strong> if the last 3 characters of the string are all digits and prints out <strong>False!</strong> otherwise.</p>\n",
    "<em> Use the appropriate method to check if the requested string slice contains digits only.</em>"
   ]
  },
  {
   "cell_type": "code",
   "execution_count": 6,
   "metadata": {},
   "outputs": [],
   "source": [
    "x = \"The days of Python 2 are almost over. Python 3 is the king now.\"\n",
    "\n"
   ]
  },
  {
   "cell_type": "code",
   "execution_count": 7,
   "metadata": {},
   "outputs": [
    {
     "name": "stdout",
     "output_type": "stream",
     "text": [
      "False!\n"
     ]
    }
   ],
   "source": [
    "x = \"The days of Python 2 are almost over. Python 3 is the king now.\"\n",
    " \n",
    "if x[-3:].isdigit():\n",
    "    print(\"True!\")\n",
    "else:\n",
    "    print(\"False!\")"
   ]
  },
  {
   "cell_type": "markdown",
   "metadata": {},
   "source": [
    "<p>Considering the code below, write code that prints out <strong>True!</strong> if <strong>x </strong>has at least 8 elements and the element positioned at index 6 is a floating-point number and prints out <strong>False!</strong> otherwise.</p>"
   ]
  },
  {
   "cell_type": "code",
   "execution_count": 8,
   "metadata": {},
   "outputs": [],
   "source": [
    "x = [115, 115.9, 116.01, [\"length\", \"width\", \"height\"], 109, 115, 119.5, [\"length\", \"width\", \"height\"]]\n",
    "\n"
   ]
  },
  {
   "cell_type": "code",
   "execution_count": 9,
   "metadata": {},
   "outputs": [
    {
     "name": "stdout",
     "output_type": "stream",
     "text": [
      "True!\n"
     ]
    }
   ],
   "source": [
    "x = [115, 115.9, 116.01, [\"length\", \"width\", \"height\"], 109, 115, 119.5, [\"length\", \"width\", \"height\"]]\n",
    " \n",
    "if len(x) >= 8 and type(x[6]) is float:\n",
    "    print(\"True!\")\n",
    "else:\n",
    "    print(\"False!\")"
   ]
  },
  {
   "cell_type": "markdown",
   "metadata": {},
   "source": [
    "<p>Considering the code below, write code that prints out <strong>True!</strong> if the second string of the first list in <strong>x </strong>ends with the letter <strong>h </strong>and the first string of the second list in <strong>x </strong>also ends with the letter <strong>h</strong>, and prints out <strong>False!</strong> otherwise.</p>"
   ]
  },
  {
   "cell_type": "code",
   "execution_count": null,
   "metadata": {},
   "outputs": [],
   "source": [
    "x = [115, 115.9, 116.01, [\"length\", \"width\", \"height\"], 109, 115, 119.5, [\"length\", \"width\", \"height\"]]"
   ]
  },
  {
   "cell_type": "code",
   "execution_count": 10,
   "metadata": {},
   "outputs": [
    {
     "name": "stdout",
     "output_type": "stream",
     "text": [
      "True!\n"
     ]
    }
   ],
   "source": [
    "x = [115, 115.9, 116.01, [\"length\", \"width\", \"height\"], 109, 115, 119.5, [\"length\", \"width\", \"height\"]]\n",
    " \n",
    "if x[3][1].endswith(\"h\") and x[7][0].endswith(\"h\"):\n",
    "    print(\"True!\")\n",
    "else:\n",
    "    print(\"False!\")"
   ]
  },
  {
   "cell_type": "markdown",
   "metadata": {},
   "source": [
    "<p>Considering the code below, write code that prints out <strong>True!</strong> if one of the following two conditions are satisfied and prints out <strong>False!</strong> otherwise.</p>\n",
    "<p>the third string of the first list in <strong>x </strong>ends with the letter <strong>h </strong></p>\n",
    "<p>the second string of the second list in <strong>x </strong>also ends with the letter <strong>h</strong></p>"
   ]
  },
  {
   "cell_type": "code",
   "execution_count": 11,
   "metadata": {},
   "outputs": [],
   "source": [
    "x = [115, 115.9, 116.01, [\"length\", \"width\", \"height\"], 109, 115, 119.5, [\"length\", \"width\", \"height\"]]\n",
    "\n"
   ]
  },
  {
   "cell_type": "code",
   "execution_count": 12,
   "metadata": {},
   "outputs": [
    {
     "name": "stdout",
     "output_type": "stream",
     "text": [
      "True!\n"
     ]
    }
   ],
   "source": [
    "x = [115, 115.9, 116.01, [\"length\", \"width\", \"height\"], 109, 115, 119.5, [\"length\", \"width\", \"height\"]]\n",
    " \n",
    "if x[3][2].endswith(\"h\") or x[7][1].endswith(\"h\"):\n",
    "    print(\"True!\")\n",
    "else:\n",
    "    print(\"False!\")"
   ]
  },
  {
   "cell_type": "markdown",
   "metadata": {},
   "source": [
    "<p>Considering the code below, write code that prints out <strong>True!</strong> if the largest value among the first 3 elements of the list is less than or equal to the smallest value among the next 3 elements of the list. Otherwise, print out <strong>False!</strong></p>\n",
    "<p><strong><em>Hint!</em></strong><em> Use the appropriate slices to make the comparison.</em></p>"
   ]
  },
  {
   "cell_type": "code",
   "execution_count": 13,
   "metadata": {},
   "outputs": [],
   "source": [
    "x = [115, 115.9, 116.01, 109, 115, 119.5, [\"length\", \"width\", \"height\"]]\n",
    "\n"
   ]
  },
  {
   "cell_type": "code",
   "execution_count": 14,
   "metadata": {},
   "outputs": [
    {
     "name": "stdout",
     "output_type": "stream",
     "text": [
      "False!\n"
     ]
    }
   ],
   "source": [
    "x = [115, 115.9, 116.01, 109, 115, 119.5, [\"length\", \"width\", \"height\"]]\n",
    " \n",
    "if max(x[:3]) <= min(x[3:6]):\n",
    "    print(\"True!\")\n",
    "else:\n",
    "    print(\"False!\")"
   ]
  },
  {
   "cell_type": "markdown",
   "metadata": {},
   "source": [
    "<p>Considering the code below, write code that prints out <strong>True!</strong> if <strong>115 </strong>appears at least once inside the list or if it is the first element in the list. Otherwise, print out <strong>False!</strong></p>\n",
    "<p><strong><em>Hint!</em></strong><em> Use the appropriate method to check if </em><strong><em>115 </em></strong><em>is the first element in the list.</em></p>"
   ]
  },
  {
   "cell_type": "code",
   "execution_count": 15,
   "metadata": {},
   "outputs": [],
   "source": [
    "x = [115, 115.9, 116.01, 109, 115, 119.5, [\"length\", \"width\", \"height\"]]\n",
    "\n"
   ]
  },
  {
   "cell_type": "code",
   "execution_count": 16,
   "metadata": {},
   "outputs": [
    {
     "name": "stdout",
     "output_type": "stream",
     "text": [
      "True!\n"
     ]
    }
   ],
   "source": [
    "x = [115, 115.9, 116.01, 109, 115, 119.5, [\"length\", \"width\", \"height\"]]\n",
    " \n",
    "if x.count(115) >= 1 or x.index(115) == 0:\n",
    "    print(\"True!\")\n",
    "else:\n",
    "    print(\"False!\")"
   ]
  },
  {
   "cell_type": "markdown",
   "metadata": {},
   "source": [
    "<p>Considering the code below, write code that prints out <strong>True!</strong> if the value associated with key number <strong>5 </strong>is <strong>Perl </strong>or the number of key-value pairs in the dictionary divided by 5 returns a remainder less than 2. Otherwise, print out <strong>False!</strong></p>"
   ]
  },
  {
   "cell_type": "code",
   "execution_count": 17,
   "metadata": {},
   "outputs": [],
   "source": [
    "x = {1: \"Python\", 2: \"Java\", 3: \"Javascript\", 4: \"Ruby\", 5: \"Perl\", 6: \"C#\", 7: \"C++\"}\n"
   ]
  },
  {
   "cell_type": "code",
   "execution_count": 18,
   "metadata": {},
   "outputs": [
    {
     "name": "stdout",
     "output_type": "stream",
     "text": [
      "True!\n"
     ]
    }
   ],
   "source": [
    "x = {1: \"Python\", 2: \"Java\", 3: \"Javascript\", 4: \"Ruby\", 5: \"Perl\", 6: \"C#\", 7: \"C++\"}\n",
    " \n",
    "if x[5] == \"Perl\" or len(x) % 5 < 2:\n",
    "    print(\"True!\")\n",
    "else:\n",
    "    print(\"False!\")"
   ]
  },
  {
   "cell_type": "markdown",
   "metadata": {},
   "source": [
    "<p>Considering the code below, write code that prints out <strong>True!</strong> if <strong>3 </strong>is a key in the dictionary<strong> </strong>and the smallest value (alphabetically) in the dictionary is <strong>C#</strong>. Otherwise, print out <strong>False!</strong></p>"
   ]
  },
  {
   "cell_type": "code",
   "execution_count": 19,
   "metadata": {},
   "outputs": [],
   "source": [
    "x = {1: \"Python\", 2: \"Java\", 3: \"Javascript\", 4: \"Ruby\", 5: \"Perl\", 6: \"C#\", 7: \"C++\"}\n",
    "\n"
   ]
  },
  {
   "cell_type": "code",
   "execution_count": 20,
   "metadata": {},
   "outputs": [
    {
     "name": "stdout",
     "output_type": "stream",
     "text": [
      "True!\n"
     ]
    }
   ],
   "source": [
    "x = {1: \"Python\", 2: \"Java\", 3: \"Javascript\", 4: \"Ruby\", 5: \"Perl\", 6: \"C#\", 7: \"C++\"}\n",
    " \n",
    "if 3 in x and sorted(x.values())[0] == \"C#\":\n",
    "    print(\"True!\")\n",
    "else:\n",
    "    print(\"False!\")"
   ]
  },
  {
   "cell_type": "markdown",
   "metadata": {},
   "source": [
    "<p>Considering the code below, write code that prints out <strong>True!</strong> if the last character of the largest (alphabetically) value in the dictionary is <strong>n</strong>. Otherwise, print out <strong>False!</strong></p>"
   ]
  },
  {
   "cell_type": "code",
   "execution_count": 21,
   "metadata": {},
   "outputs": [],
   "source": [
    "x = {1: \"Python\", 2: \"Java\", 3: \"Javascript\", 4: \"Ruby\", 5: \"Perl\", 6: \"C#\", 7: \"C++\"}\n",
    "\n"
   ]
  },
  {
   "cell_type": "code",
   "execution_count": 22,
   "metadata": {},
   "outputs": [
    {
     "name": "stdout",
     "output_type": "stream",
     "text": [
      "False!\n"
     ]
    }
   ],
   "source": [
    "x = {1: \"Python\", 2: \"Java\", 3: \"Javascript\", 4: \"Ruby\", 5: \"Perl\", 6: \"C#\", 7: \"C++\"}\n",
    " \n",
    "if sorted(x.values())[-1][-1] == \"n\":\n",
    "    print(\"True!\")\n",
    "else:\n",
    "    print(\"False!\")"
   ]
  },
  {
   "cell_type": "markdown",
   "metadata": {},
   "source": [
    "<p>Considering the code below, write code that prints out <strong>True!</strong> if the largest key in the dictionary divided by the second largest key in the dictionary returns a remainder equal to the smallest key in the dictionary. Otherwise, print out <strong>False!</strong></p>"
   ]
  },
  {
   "cell_type": "code",
   "execution_count": 23,
   "metadata": {},
   "outputs": [],
   "source": [
    "x = {1: \"Python\", 2: \"Java\", 3: \"Javascript\", 4: \"Ruby\", 5: \"Perl\", 6: \"C#\", 7: \"C++\"}\n",
    "\n"
   ]
  },
  {
   "cell_type": "code",
   "execution_count": 24,
   "metadata": {},
   "outputs": [
    {
     "name": "stdout",
     "output_type": "stream",
     "text": [
      "True!\n"
     ]
    }
   ],
   "source": [
    "x = {1: \"Python\", 2: \"Java\", 3: \"Javascript\", 4: \"Ruby\", 5: \"Perl\", 6: \"C#\", 7: \"C++\"}\n",
    " \n",
    "if sorted(x.keys())[-1] % sorted(x.keys())[-2] == sorted(x.keys())[0]:\n",
    "    print(\"True!\")\n",
    "else:\n",
    "    print(\"False!\")"
   ]
  },
  {
   "cell_type": "markdown",
   "metadata": {},
   "source": [
    "<p>Considering the code below, write code that prints out <strong>True!</strong> if the sum of all the keys in the dictionary is less than the number of characters of the string obtained by concatenating the values associated with the first 5 keys in the dictionary. Otherwise, print out <strong>False!</strong></p>"
   ]
  },
  {
   "cell_type": "code",
   "execution_count": 25,
   "metadata": {},
   "outputs": [],
   "source": [
    "x = {1: \"Python\", 2: \"Java\", 3: \"Javascript\", 4: \"Ruby\", 5: \"Perl\", 6: \"C#\", 7: \"C++\"}\n"
   ]
  },
  {
   "cell_type": "code",
   "execution_count": 26,
   "metadata": {},
   "outputs": [
    {
     "name": "stdout",
     "output_type": "stream",
     "text": [
      "False!\n"
     ]
    }
   ],
   "source": [
    "x = {1: \"Python\", 2: \"Java\", 3: \"Javascript\", 4: \"Ruby\", 5: \"Perl\", 6: \"C#\", 7: \"C++\"}\n",
    " \n",
    "if sum(x) < len(x[1] + x[2] + x[3] + x[4] + x[5]):\n",
    "    print(\"True!\")\n",
    "else:\n",
    "    print(\"False!\")"
   ]
  },
  {
   "cell_type": "markdown",
   "metadata": {},
   "source": [
    "<p>Considering the code below, write code that prints out <strong>True!</strong> if the 3rd element of the first range is less than 2, prints out <strong>False!</strong> if the 5th element of the first range is 5, and prints out <strong>None!</strong> otherwise.</p>"
   ]
  },
  {
   "cell_type": "code",
   "execution_count": 27,
   "metadata": {},
   "outputs": [],
   "source": [
    "x = [list(range(5)), list(range(5,9)), list(range(1,10,3))]\n",
    "\n"
   ]
  },
  {
   "cell_type": "code",
   "execution_count": 28,
   "metadata": {},
   "outputs": [
    {
     "name": "stdout",
     "output_type": "stream",
     "text": [
      "None!\n"
     ]
    }
   ],
   "source": [
    "x = [list(range(5)), list(range(5,9)), list(range(1,10,3))]\n",
    " \n",
    "if x[0][2] < 2:\n",
    "    print(\"True!\")\n",
    "elif x[0][4] == 5:\n",
    "    print(\"False!\")\n",
    "else:\n",
    "    print(\"None!\")"
   ]
  },
  {
   "cell_type": "markdown",
   "metadata": {},
   "source": [
    "<p>Considering the code below, write code that prints out <strong>True!</strong> if the 3rd element of the 3rd range is less than 6, prints out <strong>False!</strong> if the 1st element of the second range is 5, and prints out <strong>None!</strong> otherwise.</p>"
   ]
  },
  {
   "cell_type": "code",
   "execution_count": 29,
   "metadata": {},
   "outputs": [],
   "source": [
    "x = [list(range(5)), list(range(5,9)), list(range(1,10,3))]\n",
    "\n"
   ]
  },
  {
   "cell_type": "code",
   "execution_count": 30,
   "metadata": {},
   "outputs": [
    {
     "name": "stdout",
     "output_type": "stream",
     "text": [
      "False!\n"
     ]
    }
   ],
   "source": [
    "x = [list(range(5)), list(range(5,9)), list(range(1,10,3))]\n",
    " \n",
    "if x[2][2] < 6:\n",
    "    print(\"True!\")\n",
    "elif x[1][0] == 5:\n",
    "    print(\"False!\")\n",
    "else:\n",
    "    print(\"None!\")"
   ]
  },
  {
   "cell_type": "markdown",
   "metadata": {},
   "source": [
    "<p>Considering the code below, write code that prints out <strong>True!</strong> if the last element of the first range is greater than 3, prints out <strong>False!</strong> if the last element of the second range is less than 9, and prints out <strong>None!</strong> otherwise.</p>"
   ]
  },
  {
   "cell_type": "code",
   "execution_count": 31,
   "metadata": {},
   "outputs": [],
   "source": [
    "x = [list(range(5)), list(range(5,9)), list(range(1,10,3))]\n"
   ]
  },
  {
   "cell_type": "code",
   "execution_count": 32,
   "metadata": {},
   "outputs": [
    {
     "name": "stdout",
     "output_type": "stream",
     "text": [
      "True!\n"
     ]
    }
   ],
   "source": [
    "x = [list(range(5)), list(range(5,9)), list(range(1,10,3))]\n",
    " \n",
    "if x[0][-1] > 3:\n",
    "    print(\"True!\")\n",
    "elif x[1][-1] < 9:\n",
    "    print(\"False!\")\n",
    "else:\n",
    "    print(\"None!\")"
   ]
  },
  {
   "cell_type": "markdown",
   "metadata": {},
   "source": [
    "<p>Considering the code below, write code that prints out <strong>True!</strong> if the length of the first range is greater than or equal to 5, prints out <strong>False!</strong> if the length of the second range is 4, and prints out <strong>None!</strong> otherwise.</p>\n"
   ]
  },
  {
   "cell_type": "code",
   "execution_count": 33,
   "metadata": {},
   "outputs": [],
   "source": [
    "x = [list(range(5)), list(range(5,9)), list(range(1,10,3))]\n",
    "\n"
   ]
  },
  {
   "cell_type": "code",
   "execution_count": 34,
   "metadata": {},
   "outputs": [
    {
     "name": "stdout",
     "output_type": "stream",
     "text": [
      "True!\n"
     ]
    }
   ],
   "source": [
    "x = [list(range(5)), list(range(5,9)), list(range(1,10,3))]\n",
    " \n",
    "if len(x[0]) >= 5:\n",
    "    print(\"True!\")\n",
    "elif len(x[1]) == 4:\n",
    "    print(\"False!\")\n",
    "else:\n",
    "    print(\"None!\")"
   ]
  },
  {
   "cell_type": "markdown",
   "metadata": {},
   "source": [
    "<p>Considering the code below, write code that prints out <strong>True!</strong> if the sum of all the elements of the first range is greater than the sum of all the elements of the third range, prints out <strong>False!</strong> if the largest element of the second range is greater than the largest element of the third range, and prints out <strong>None!</strong> otherwise.</p>"
   ]
  },
  {
   "cell_type": "code",
   "execution_count": 35,
   "metadata": {},
   "outputs": [],
   "source": [
    "x = [list(range(5)), list(range(5,9)), list(range(1,10,3))]\n"
   ]
  },
  {
   "cell_type": "code",
   "execution_count": 36,
   "metadata": {},
   "outputs": [
    {
     "name": "stdout",
     "output_type": "stream",
     "text": [
      "False!\n"
     ]
    }
   ],
   "source": [
    "x = [list(range(5)), list(range(5,9)), list(range(1,10,3))]\n",
    " \n",
    "if sum(x[0]) > sum(x[2]):\n",
    "    print(\"True!\")\n",
    "elif max(x[1]) > max(x[2]):\n",
    "    print(\"False!\")\n",
    "else:\n",
    "    print(\"None!\")"
   ]
  },
  {
   "cell_type": "markdown",
   "metadata": {},
   "source": [
    "<p>Considering the code below, write code that prints out <strong>True!</strong> if the largest element of the first range minus the second element of the 3rd range is equal to the first element of the first range, prints out <strong>False!</strong> if the length of the first range minus the length of the 2nd range is equal to the first element of the 3rd range, prints out <strong>Maybe!</strong> if the sum of all the elements of the 3rd range divided by 2 returns a remainder of 0, and prints out <strong>None!</strong> otherwise.</p>"
   ]
  },
  {
   "cell_type": "code",
   "execution_count": 37,
   "metadata": {},
   "outputs": [],
   "source": [
    "x = [list(range(5)), list(range(5,9)), list(range(1,10,3))]\n"
   ]
  },
  {
   "cell_type": "code",
   "execution_count": 38,
   "metadata": {},
   "outputs": [
    {
     "name": "stdout",
     "output_type": "stream",
     "text": [
      "True!\n"
     ]
    }
   ],
   "source": [
    "x = [list(range(5)), list(range(5,9)), list(range(1,10,3))]\n",
    " \n",
    "if max(x[0]) - x[2][1] == x[0][0]:\n",
    "    print(\"True!\")\n",
    "elif len(x[0]) - len(x[1]) == x[2][0]:\n",
    "    print(\"False!\")\n",
    "elif sum(x[2]) % 2 == 0:\n",
    "    print(\"Maybe!\")\n",
    "else:\n",
    "    print(\"None!\")"
   ]
  },
  {
   "cell_type": "markdown",
   "metadata": {},
   "source": [
    "<p>Considering the code below, write code that prints out <strong>True!</strong> if the sum of the last 3 elements of the first range plus the sum of the last 3 elements of the 3rd range is equal to the sum of the last 3 elements of the 2nd range, and prints out <strong>False!</strong> if the length of the first range times 2 is less than the sum of all the elements of the 3rd range.</p>"
   ]
  },
  {
   "cell_type": "code",
   "execution_count": 39,
   "metadata": {},
   "outputs": [],
   "source": [
    "x = [list(range(5)), list(range(5,9)), list(range(1,10,3))]\n"
   ]
  },
  {
   "cell_type": "code",
   "execution_count": 40,
   "metadata": {},
   "outputs": [
    {
     "name": "stdout",
     "output_type": "stream",
     "text": [
      "True!\n"
     ]
    }
   ],
   "source": [
    "x = [list(range(5)), list(range(5,9)), list(range(1,10,3))]\n",
    " \n",
    "if sum(x[0][-3:]) + sum(x[2][-3:]) == sum(x[1][-3:]):\n",
    "    print(\"True!\")\n",
    "elif len(x[0]) * 2 < sum(x[2]):\n",
    "    print(\"False!\")"
   ]
  },
  {
   "cell_type": "markdown",
   "metadata": {},
   "source": [
    "<p>Considering the code below, write code that prints out <strong>True!</strong> if the 2nd character of the value at key 1 is also present in the value at key 4, and prints out <strong>False!</strong> otherwise.</p>"
   ]
  },
  {
   "cell_type": "code",
   "execution_count": 41,
   "metadata": {},
   "outputs": [],
   "source": [
    "x = {1: \"Python\", 2: \"Java\", 3: \"Javascript\", 4: \"Ruby\", 5: \"Perl\", 6: \"C#\", 7: \"C++\"}\n"
   ]
  },
  {
   "cell_type": "code",
   "execution_count": 42,
   "metadata": {},
   "outputs": [
    {
     "name": "stdout",
     "output_type": "stream",
     "text": [
      "True!\n"
     ]
    }
   ],
   "source": [
    "x = {1: \"Python\", 2: \"Java\", 3: \"Javascript\", 4: \"Ruby\", 5: \"Perl\", 6: \"C#\", 7: \"C++\"}\n",
    " \n",
    "if x[1][1] in x[4]:\n",
    "    print(\"True!\")\n",
    "else:\n",
    "    print(\"False!\")"
   ]
  },
  {
   "cell_type": "markdown",
   "metadata": {},
   "source": [
    "<p>Considering the code below, write code that prints out <strong>True!</strong> if the second to last character of the value at key 3 is the first character of the value at key 5, and prints out <strong>False!</strong> otherwise.</p>"
   ]
  },
  {
   "cell_type": "code",
   "execution_count": 43,
   "metadata": {},
   "outputs": [],
   "source": [
    "x = {1: \"Python\", 2: \"Java\", 3: \"Javascript\", 4: \"Ruby\", 5: \"Perl\", 6: \"C#\", 7: \"C++\"}\n"
   ]
  },
  {
   "cell_type": "code",
   "execution_count": 44,
   "metadata": {},
   "outputs": [
    {
     "name": "stdout",
     "output_type": "stream",
     "text": [
      "False!\n"
     ]
    }
   ],
   "source": [
    "x = {1: \"Python\", 2: \"Java\", 3: \"Javascript\", 4: \"Ruby\", 5: \"Perl\", 6: \"C#\", 7: \"C++\"}\n",
    " \n",
    "if x[3][-2] == x[5][0]:\n",
    "    print(\"True!\")\n",
    "else:\n",
    "    print(\"False!\")"
   ]
  },
  {
   "cell_type": "markdown",
   "metadata": {},
   "source": [
    "<p>Considering the code below, write code that prints out <strong>True!</strong> if the number of characters of the smallest value in the dictionary is equal to the number of occurrences of letter <strong>a </strong>in the value at key 3, and prints out <strong>False!</strong> otherwise.</p>"
   ]
  },
  {
   "cell_type": "code",
   "execution_count": 45,
   "metadata": {},
   "outputs": [],
   "source": [
    "x = {1: \"Python\", 2: \"Java\", 3: \"Javascript\", 4: \"Ruby\", 5: \"Perl\", 6: \"C#\", 7: \"C++\"}\n"
   ]
  },
  {
   "cell_type": "code",
   "execution_count": 46,
   "metadata": {},
   "outputs": [
    {
     "name": "stdout",
     "output_type": "stream",
     "text": [
      "True!\n"
     ]
    }
   ],
   "source": [
    "x = {1: \"Python\", 2: \"Java\", 3: \"Javascript\", 4: \"Ruby\", 5: \"Perl\", 6: \"C#\", 7: \"C++\"}\n",
    " \n",
    "if len(min(x.values())) == x[3].count(\"a\"):\n",
    "    print(\"True!\")\n",
    "else:\n",
    "    print(\"False!\")"
   ]
  },
  {
   "cell_type": "markdown",
   "metadata": {},
   "source": []
  }
 ],
 "metadata": {
  "kernelspec": {
   "display_name": "Python 3.9.6 64-bit",
   "language": "python",
   "name": "python3"
  },
  "language_info": {
   "codemirror_mode": {
    "name": "ipython",
    "version": 3
   },
   "file_extension": ".py",
   "mimetype": "text/x-python",
   "name": "python",
   "nbconvert_exporter": "python",
   "pygments_lexer": "ipython3",
   "version": "3.9.6"
  },
  "orig_nbformat": 4,
  "vscode": {
   "interpreter": {
    "hash": "08e595c52ca3b9470036b1110e67b559e55f367cabc363f2e28d35631ed95060"
   }
  }
 },
 "nbformat": 4,
 "nbformat_minor": 2
}
