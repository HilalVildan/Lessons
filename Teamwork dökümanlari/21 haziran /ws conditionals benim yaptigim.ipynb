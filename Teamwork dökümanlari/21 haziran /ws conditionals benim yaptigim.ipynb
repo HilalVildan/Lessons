{
 "cells": [
  {
   "cell_type": "markdown",
   "metadata": {},
   "source": [
    "<p>Considering the code below, write code that prints out <strong>True!</strong> if <strong>x </strong>has 50 characters or more.</p>"
   ]
  },
  {
   "cell_type": "code",
   "execution_count": null,
   "metadata": {},
   "outputs": [],
   "source": [
    "x = \"The days of Python 2 are alt over\""
   ]
  },
  {
   "cell_type": "code",
   "execution_count": 91,
   "metadata": {},
   "outputs": [
    {
     "name": "stdout",
     "output_type": "stream",
     "text": [
      "False\n",
      "False\n",
      "False\n"
     ]
    }
   ],
   "source": [
    "\n",
    "\n",
    "if len(x) >= 50:\n",
    "    print('True!')\n",
    "else:\n",
    "    print('False')\n",
    "\n",
    "#if else degisken atama\n",
    "result = 'True' if len(x) >= 50 else 'False'\n",
    "# else:\n",
    "    # print(False) # True olmayan senaryolarda da bir cikti olsun istiyorsak else kismini ekleyebilriz. Ya da mantiksal operatorler kullanarak tek satirda yapilabilir.\n",
    "print('True' if len(x) >= 50 else 'False')\n",
    "print(result)\n"
   ]
  },
  {
   "cell_type": "markdown",
   "metadata": {},
   "source": [
    "<p>Considering the code below, write code that prints out <strong>True!</strong> if <strong>x </strong>is a string and the first character in the string is <strong>T</strong>.</p>"
   ]
  },
  {
   "cell_type": "code",
   "execution_count": null,
   "metadata": {},
   "outputs": [],
   "source": [
    "x = \"The days of Python 2 are almost over. Python 3 is the king now.\""
   ]
  },
  {
   "cell_type": "code",
   "execution_count": 18,
   "metadata": {},
   "outputs": [
    {
     "name": "stdout",
     "output_type": "stream",
     "text": [
      "True!\n",
      "True!\n"
     ]
    }
   ],
   "source": [
    "x = \"The days of Python 2 are almost over. Python 3 is the king now.\"\n",
    "\n",
    "if type(x) == str and x.startswith('T'): # string sorgulanmazsa baska bir turde deger girildiginde False yada bos cikti degil, hata verir.\n",
    "    print('True!')\n",
    "\n",
    "# Alternatif\n",
    "if  type(x) == str and x[0] == \"T\":\n",
    "    print('True!')\n",
    "\n",
    "\n",
    "\n"
   ]
  },
  {
   "cell_type": "markdown",
   "metadata": {},
   "source": [
    "<p>Considering the code below, write code that prints out <strong>True!</strong> if at least one of the following conditions occurs: </p>\n",
    "<p>the string contains the character <strong>z </strong></p>\n",
    "<p>the string contains the character <strong>y </strong>at least twice</p>"
   ]
  },
  {
   "cell_type": "code",
   "execution_count": 19,
   "metadata": {},
   "outputs": [
    {
     "name": "stdout",
     "output_type": "stream",
     "text": [
      "True!\n"
     ]
    }
   ],
   "source": [
    "x = \"The days of Python 2 are almost over. Python 3 is the king now.\"\n",
    "\n",
    "if 'z' in x or x.count('y') >= 2:\n",
    "    print('True!')"
   ]
  },
  {
   "cell_type": "code",
   "execution_count": 83,
   "metadata": {},
   "outputs": [
    {
     "name": "stdout",
     "output_type": "stream",
     "text": [
      "True!\n"
     ]
    }
   ],
   "source": [
    "\n",
    "\n",
    "if 'z' in x or x.count('y') >= 2:\n",
    "    print('True!')\n",
    "\n",
    "\n",
    "\n"
   ]
  },
  {
   "cell_type": "markdown",
   "metadata": {},
   "source": [
    "<p>Considering the code below, write code that prints out <strong>True!</strong> if the index of the first occurrence of letter <strong>f </strong>is less than 10 and prints out <strong>False!</strong> if the same condition is not satisfied.</p>"
   ]
  },
  {
   "cell_type": "code",
   "execution_count": 20,
   "metadata": {},
   "outputs": [
    {
     "name": "stdout",
     "output_type": "stream",
     "text": [
      "False!\n"
     ]
    }
   ],
   "source": [
    "x = \"The days of Python 2 are almost over. Python 3 is the king now.\"\n",
    "if x.index('f') < 10:\n",
    "    print('True!')\n",
    "else:\n",
    "    print('False!')"
   ]
  },
  {
   "cell_type": "code",
   "execution_count": 103,
   "metadata": {},
   "outputs": [
    {
     "name": "stdout",
     "output_type": "stream",
     "text": [
      "False!\n",
      "False!\n",
      "False!\n",
      "False!\n"
     ]
    }
   ],
   "source": [
    "\n",
    "\n",
    "\n",
    "if x.index('f') < 10:\n",
    "    print('True!')\n",
    "else:\n",
    "    print('False!')\n",
    "\n",
    "# Tek satir\n",
    "print(x.index('f') < 10 and 'True!' or 'False!') \n",
    "\n",
    "\n",
    "# Alternatif\n",
    "if 'f' in x[0:10]:\n",
    "    print('True!')\n",
    "else:\n",
    "    print('False!')\n",
    "# Tek satir\n",
    "print('f' in x[0:10] and 'True!' or 'False!')"
   ]
  },
  {
   "cell_type": "markdown",
   "metadata": {},
   "source": [
    "<p>Considering the code below, write code that prints out <strong>True!</strong> if the last 3 characters of the string are all digits and prints out <strong>False!</strong> otherwise.</p>\n",
    "<em> Use the appropriate method to check if the requested string slice contains digits only.</em>"
   ]
  },
  {
   "cell_type": "code",
   "execution_count": 24,
   "metadata": {},
   "outputs": [
    {
     "name": "stdout",
     "output_type": "stream",
     "text": [
      "False!\n"
     ]
    }
   ],
   "source": [
    "x = \"The days of Python 2 are almost over. Python 3 is the king now.\"\n",
    "if x[-3:].isnumeric():\n",
    "    print('True!')\n",
    "else:\n",
    "    print('False!')"
   ]
  },
  {
   "cell_type": "code",
   "execution_count": 122,
   "metadata": {},
   "outputs": [
    {
     "name": "stdout",
     "output_type": "stream",
     "text": [
      "False!\n",
      "False!\n"
     ]
    }
   ],
   "source": [
    "\n",
    "\n",
    "if x[-3:].isdigit():\n",
    "    print('True!')\n",
    "else:\n",
    "    print('False!')\n",
    "\n",
    "# Tek satir\n",
    "print(x[-3:].isdigit() and 'True!' or 'False!')\n",
    "\n"
   ]
  },
  {
   "cell_type": "markdown",
   "metadata": {},
   "source": [
    "<p>Considering the code below, write code that prints out <strong>True!</strong> if <strong>x </strong>has at least 8 elements and the element positioned at index 6 is a floating-point number and prints out <strong>False!</strong> otherwise.</p>"
   ]
  },
  {
   "cell_type": "code",
   "execution_count": 27,
   "metadata": {},
   "outputs": [],
   "source": [
    "x = [115, 115.9, 116.01, [\"length\", \"width\", \"height\"], 109, 115, 119.5, [\"length\", \"width\", \"height\"]]\n"
   ]
  },
  {
   "cell_type": "code",
   "execution_count": 31,
   "metadata": {},
   "outputs": [
    {
     "name": "stdout",
     "output_type": "stream",
     "text": [
      "True!\n",
      "True!\n"
     ]
    }
   ],
   "source": [
    "\n",
    "# y = [115, 115.9, 116.01, [\"length\", \"width\", \"height\"], 109, 115, 119.5, [\"length\", \"width\", \"height\"]]\n",
    "if len(x) >= 8 and type(x[6]) is float: # cevap anahtarinda == yerine 'is' kullanilmis. Ikisi de burda hatasiz calisiyor. Fakat is operatoru tamamen ayni olup olmadigini kontrol ederken (id gibi), == operatoru degerler esit mi diye kontrol ediyor.\n",
    "    print('True!')\n",
    "else:\n",
    "    print('False!')\n",
    "\n",
    "\n",
    "\n",
    "# tek satirda\n",
    "print(len(x) >= 8 and type(x[6]) == float and 'True!' or 'False!')"
   ]
  },
  {
   "cell_type": "markdown",
   "metadata": {},
   "source": [
    "<p>Considering the code below, write code that prints out <strong>True!</strong> if the second string of the first list in <strong>x </strong>ends with the letter <strong>h </strong>and the first string of the second list in <strong>x </strong>also ends with the letter <strong>h</strong>, and prints out <strong>False!</strong> otherwise.</p>"
   ]
  },
  {
   "cell_type": "code",
   "execution_count": 35,
   "metadata": {},
   "outputs": [
    {
     "name": "stdout",
     "output_type": "stream",
     "text": [
      "True!\n"
     ]
    }
   ],
   "source": [
    "x = [115, 115.9, 116.01, [\"length\", \"width\", \"height\"], 109, 115, 119.5, [\"length\", \"width\", \"height\"]]\n",
    "# for i in x:\n",
    "#     if type(i) == list:\n",
    "#         first_list = i\n",
    "# print(first_list)\n",
    "if x[3][1].endswith('h') and x[7][0].endswith('h'):\n",
    "    print('True!')\n",
    "else:\n",
    "    print('False!')"
   ]
  },
  {
   "cell_type": "code",
   "execution_count": 33,
   "metadata": {},
   "outputs": [
    {
     "name": "stdout",
     "output_type": "stream",
     "text": [
      "True!\n"
     ]
    }
   ],
   "source": [
    "if x[3][1].endswith('h') and x[7][0].endswith('h'):\n",
    "    print('True!')\n",
    "else:\n",
    "    print('False!')"
   ]
  },
  {
   "cell_type": "markdown",
   "metadata": {},
   "source": [
    "<p>Considering the code below, write code that prints out <strong>True!</strong> if one of the following two conditions are satisfied and prints out <strong>False!</strong> otherwise.</p>\n",
    "<p>the third string of the first list in <strong>x </strong>ends with the letter <strong>h </strong></p>\n",
    "<p>the second string of the second list in <strong>x </strong>also ends with the letter <strong>h</strong></p>"
   ]
  },
  {
   "cell_type": "code",
   "execution_count": 36,
   "metadata": {},
   "outputs": [
    {
     "name": "stdout",
     "output_type": "stream",
     "text": [
      "True!\n"
     ]
    }
   ],
   "source": [
    "x = [115, 115.9, 116.01, [\"length\", \"width\", \"height\"], 109, 115, 119.5, [\"length\", \"width\", \"height\"]]\n",
    "if x[3][2].endswith('h') or x[7][1].endswith('h'):\n",
    "    print('True!')\n",
    "else:\n",
    "    print('False!')"
   ]
  },
  {
   "cell_type": "code",
   "execution_count": 37,
   "metadata": {},
   "outputs": [
    {
     "name": "stdout",
     "output_type": "stream",
     "text": [
      "True!\n"
     ]
    }
   ],
   "source": [
    "\n",
    "if x[3][2].endswith('h') or x[7][1].endswith('h'):\n",
    "    print('True!')\n",
    "else:\n",
    "    print('False')\n",
    "\n"
   ]
  },
  {
   "cell_type": "markdown",
   "metadata": {},
   "source": [
    "<p>Considering the code below, write code that prints out <strong>True!</strong> if the largest value among the first 3 elements of the list is less than or equal to the smallest value among the next 3 elements of the list. Otherwise, print out <strong>False!</strong></p>\n",
    "<p><strong><em>Hint!</em></strong><em> Use the appropriate slices to make the comparison.</em></p>"
   ]
  },
  {
   "cell_type": "code",
   "execution_count": 40,
   "metadata": {},
   "outputs": [
    {
     "name": "stdout",
     "output_type": "stream",
     "text": [
      "False!\n"
     ]
    }
   ],
   "source": [
    "x = [115, 115.9, 116.01, 109, 115, 119.5, [\"length\", \"width\", \"height\"]]\n",
    "\n",
    "if max(x[:3]) <= min(x[3:6])  :\n",
    "     print(\"True\")\n",
    "else :\n",
    "    print(\"False!\")\n",
    "\n"
   ]
  },
  {
   "cell_type": "code",
   "execution_count": 39,
   "metadata": {},
   "outputs": [
    {
     "name": "stdout",
     "output_type": "stream",
     "text": [
      "False!\n"
     ]
    }
   ],
   "source": [
    "if max(x[:3]) <= min(x[3:6]):\n",
    "    print('True!')\n",
    "else:\n",
    "    print('False!')"
   ]
  },
  {
   "cell_type": "markdown",
   "metadata": {},
   "source": [
    "<p>Considering the code below, write code that prints out <strong>True!</strong> if <strong>115 </strong>appears at least once inside the list or if it is the first element in the list. Otherwise, print out <strong>False!</strong></p>\n",
    "<p><strong><em>Hint!</em></strong><em> Use the appropriate method to check if </em><strong><em>115 </em></strong><em>is the first element in the list.</em></p>"
   ]
  },
  {
   "cell_type": "code",
   "execution_count": 41,
   "metadata": {},
   "outputs": [
    {
     "name": "stdout",
     "output_type": "stream",
     "text": [
      "True!\n"
     ]
    }
   ],
   "source": [
    "x = [115, 115.9, 116.01, 109, 115, 119.5, [\"length\", \"width\", \"height\"]]\n",
    "if x.count(115) >= 1 or x[0] == 115:\n",
    "    print('True!')\n",
    "else:\n",
    "    print('False!')\n"
   ]
  },
  {
   "cell_type": "code",
   "execution_count": 205,
   "metadata": {},
   "outputs": [
    {
     "name": "stdout",
     "output_type": "stream",
     "text": [
      "True!\n",
      "True!\n"
     ]
    }
   ],
   "source": [
    "if x.count(115) >= 1 or x.index(115) == 0:\n",
    "    print(\"True!\")\n",
    "else:\n",
    "    print(\"False!\")\n",
    "\n",
    "#alternatif\n",
    "if x[0] == 115 or 115 in x:\n",
    "    print('True!')\n",
    "else:\n",
    "    print('False!')"
   ]
  },
  {
   "cell_type": "markdown",
   "metadata": {},
   "source": [
    "<p>Considering the code below, write code that prints out <strong>True!</strong> if the value associated with key number <strong>5 </strong>is <strong>Perl </strong>or the number of key-value pairs in the dictionary divided by 5 returns a remainder less than 2. Otherwise, print out <strong>False!</strong></p>"
   ]
  },
  {
   "cell_type": "code",
   "execution_count": 42,
   "metadata": {},
   "outputs": [
    {
     "name": "stdout",
     "output_type": "stream",
     "text": [
      "True!\n"
     ]
    }
   ],
   "source": [
    "x = {1: \"Python\", 2: \"Java\", 3: \"Javascript\", 4: \"Ruby\", 5: \"Perl\", 6: \"C#\", 7: \"C++\"}\n",
    "if x[5] == 'Perl' or len(x.items()) % 5 < 2:\n",
    "    print('True!')\n",
    "else:\n",
    "    print('False!')\n",
    "\n"
   ]
  },
  {
   "cell_type": "code",
   "execution_count": 46,
   "metadata": {},
   "outputs": [
    {
     "name": "stdout",
     "output_type": "stream",
     "text": [
      "True!\n"
     ]
    }
   ],
   "source": [
    "if x[5] == \"Perl\" or len(x) % 5 <2:\n",
    "    print('True!')\n",
    "else:\n",
    "    print('False!')\n",
    "\n",
    "\n"
   ]
  },
  {
   "cell_type": "markdown",
   "metadata": {},
   "source": [
    "<p>Considering the code below, write code that prints out <strong>True!</strong> if <strong>3 </strong>is a key in the dictionary<strong> </strong>and the smallest value (alphabetically) in the dictionary is <strong>C#</strong>. Otherwise, print out <strong>False!</strong></p>"
   ]
  },
  {
   "cell_type": "code",
   "execution_count": 56,
   "metadata": {},
   "outputs": [
    {
     "name": "stdout",
     "output_type": "stream",
     "text": [
      "True!\n"
     ]
    }
   ],
   "source": [
    "x = {1: \"Python\", 2: \"Java\", 3 : 'Javascript', 4: \"Ruby\", 5: \"Perl\", 6: \"C#\", 7: \"C++\"}\n",
    "degerler = list(x.values())\n",
    "degerler.sort()\n",
    "if 3 in x.keys() and degerler[0] == 'C#':\n",
    "    print('True!')\n",
    "else:\n",
    "    print('False!')\n",
    "\n",
    "\n",
    "\n"
   ]
  },
  {
   "cell_type": "code",
   "execution_count": 57,
   "metadata": {},
   "outputs": [
    {
     "name": "stdout",
     "output_type": "stream",
     "text": [
      "True!\n",
      "True!\n"
     ]
    }
   ],
   "source": [
    "x = {1: \"Python\", 2: \"Java\",  3: 'Javascript', 4: \"Ruby\", 5: \"Perl\", 6: \"C#\", 7: \"C++\"}\n",
    "\n",
    "\n",
    "if 3 in x and sorted(x.values())[0] == \"C#\":\n",
    "    print(\"True!\")\n",
    "else:\n",
    "    print(\"False!\")\n",
    "\n",
    "# alternatif\n",
    "if 3 in x and min(x.values()) == 'C#':\n",
    "    print('True!')\n",
    "else:\n",
    "    print('False!')\n",
    "\n"
   ]
  },
  {
   "cell_type": "markdown",
   "metadata": {},
   "source": [
    "<p>Considering the code below, write code that prints out <strong>True!</strong> if the last character of the largest (alphabetically) value in the dictionary is <strong>n</strong>. Otherwise, print out <strong>False!</strong></p>"
   ]
  },
  {
   "cell_type": "code",
   "execution_count": 59,
   "metadata": {},
   "outputs": [
    {
     "name": "stdout",
     "output_type": "stream",
     "text": [
      "False!\n"
     ]
    }
   ],
   "source": [
    "x = {1: \"Python\", 2: \"Java\", 3: \"Javascript\", 4: \"Ruby\", 5: \"Perl\", 6: \"C#\", 7: \"C++\"}\n",
    "values = list(x.values())\n",
    "if max(values)[-1] == \"n\" :\n",
    "    print(\"True!\")\n",
    "else:\n",
    "    print(\"False!\")"
   ]
  },
  {
   "cell_type": "code",
   "execution_count": 60,
   "metadata": {},
   "outputs": [
    {
     "name": "stdout",
     "output_type": "stream",
     "text": [
      "False!\n",
      "False!\n"
     ]
    }
   ],
   "source": [
    "x = {1: \"Python\", 2: \"Java\", 3: \"Javascript\", 4: \"Ruby\", 5: \"Perl\", 6: \"C#\", 7: \"C++\"}\n",
    "\n",
    "if sorted(x.values())[-1][-1] == \"n\":\n",
    "    print(\"True!\")\n",
    "else:\n",
    "    print(\"False!\")\n",
    "\n",
    "#alternatif\n",
    "if max(x.values()).endswith('n'):\n",
    "    print('True!')\n",
    "else:\n",
    "    print('False!')\n",
    "\n"
   ]
  },
  {
   "cell_type": "markdown",
   "metadata": {},
   "source": [
    "<p>Considering the code below, write code that prints out <strong>True!</strong> if the largest key in the dictionary divided by the second largest key in the dictionary returns a remainder equal to the smallest key in the dictionary. Otherwise, print out <strong>False!</strong></p>"
   ]
  },
  {
   "cell_type": "code",
   "execution_count": 247,
   "metadata": {},
   "outputs": [],
   "source": [
    "x = {1: \"Python\", 2: \"Java\", 3: \"Javascript\", 4: \"Ruby\", 5: \"Perl\", 6: \"C#\", 7: \"C++\"}"
   ]
  },
  {
   "cell_type": "code",
   "execution_count": 61,
   "metadata": {},
   "outputs": [
    {
     "name": "stdout",
     "output_type": "stream",
     "text": [
      "True!\n",
      "True!\n"
     ]
    }
   ],
   "source": [
    "x = {1: \"Python\", 2: \"Java\", 3: \"Javascript\", 4: \"Ruby\", 5: \"Perl\", 6: \"C#\", 7: \"C++\"}\n",
    "\n",
    "if sorted(x.keys())[-1] % sorted(x.keys())[-2] == sorted(x.keys())[0]:\n",
    "    print(\"True!\")\n",
    "else:\n",
    "    print(\"False!\")\n",
    "\n",
    "# alternatif\n",
    "\n",
    "if max(x.keys()) % sorted(x.keys())[-2] == min(x.keys()):\n",
    "    print('True!')\n",
    "else:\n",
    "    print('False!')\n",
    "\n"
   ]
  },
  {
   "cell_type": "markdown",
   "metadata": {},
   "source": [
    "<p>Considering the code below, write code that prints out <strong>True!</strong> if the sum of all the keys in the dictionary is less than the number of characters of the string obtained by concatenating the values associated with the first 5 keys in the dictionary. Otherwise, print out <strong>False!</strong></p>"
   ]
  },
  {
   "cell_type": "code",
   "execution_count": 66,
   "metadata": {},
   "outputs": [
    {
     "name": "stdout",
     "output_type": "stream",
     "text": [
      "False!\n"
     ]
    }
   ],
   "source": [
    "x = {1: \"Python\", 2: \"Java\", 3: \"Javascript\", 4: \"Ruby\", 5: \"Perl\", 6: \"C#\", 7: \"C++\"}\n",
    "if sum(list(x.keys())) < len(''.join(list(x.values())[0:5])):\n",
    "    print('True!')\n",
    "else:\n",
    "    print('False!')\n"
   ]
  },
  {
   "cell_type": "code",
   "execution_count": 68,
   "metadata": {},
   "outputs": [
    {
     "name": "stdout",
     "output_type": "stream",
     "text": [
      "False!\n"
     ]
    }
   ],
   "source": [
    "if sum(x) < len(x[1] + x[2] + x[3] + x[4] + x[5]):\n",
    "    print('True!')\n",
    "else:\n",
    "    print('False!')\n",
    "\n",
    "\n"
   ]
  },
  {
   "cell_type": "markdown",
   "metadata": {},
   "source": [
    "<p>Considering the code below, write code that prints out <strong>True!</strong> if the 3rd element of the first range is less than 2, prints out <strong>False!</strong> if the 5th element of the first range is 5, and prints out <strong>None!</strong> otherwise.</p>"
   ]
  },
  {
   "cell_type": "code",
   "execution_count": 69,
   "metadata": {},
   "outputs": [
    {
     "name": "stdout",
     "output_type": "stream",
     "text": [
      "None!\n"
     ]
    }
   ],
   "source": [
    "x = [list(range(5)), list(range(5,9)), list(range(1,10,3))]\n",
    "if x[0][2] < 2 :\n",
    "    print(\"True\")\n",
    "elif x [0][4] == 5 :\n",
    "    print(\"False!\")\n",
    "else:\n",
    "    print(\"None!\")"
   ]
  },
  {
   "cell_type": "code",
   "execution_count": 299,
   "metadata": {},
   "outputs": [
    {
     "name": "stdout",
     "output_type": "stream",
     "text": [
      "None!\n"
     ]
    }
   ],
   "source": [
    "if x[0][2] < 2:\n",
    "    print('True!')\n",
    "elif x[0][4] == 5:\n",
    "    print('False!')\n",
    "else:\n",
    "    print('None!')\n"
   ]
  },
  {
   "cell_type": "markdown",
   "metadata": {},
   "source": [
    "<p>Considering the code below, write code that prints out <strong>True!</strong> if the 3rd element of the 3rd range is less than 6, prints out <strong>False!</strong> if the 1st element of the second range is 5, and prints out <strong>None!</strong> otherwise.</p>"
   ]
  },
  {
   "cell_type": "code",
   "execution_count": 71,
   "metadata": {},
   "outputs": [
    {
     "name": "stdout",
     "output_type": "stream",
     "text": [
      "False!\n",
      "[[0, 1, 2, 3, 4], [5, 6, 7, 8], [1, 4, 7]]\n"
     ]
    }
   ],
   "source": [
    "x = [list(range(5)), list(range(5,9)), list(range(1,10,3))]\n",
    "\n",
    "if x[2][2] < 6:\n",
    "    print('True!')\n",
    "elif x[1][0] == 5:\n",
    "    print('False!')\n",
    "else:\n",
    "    print('None!')\n",
    "print(x)"
   ]
  },
  {
   "cell_type": "code",
   "execution_count": 303,
   "metadata": {},
   "outputs": [
    {
     "name": "stdout",
     "output_type": "stream",
     "text": [
      "False!\n"
     ]
    }
   ],
   "source": [
    "\n",
    "if x[2][2] < 6:\n",
    "    print('True!')\n",
    "elif x[1][0] == 5:\n",
    "    print('False!')\n",
    "else:\n",
    "    print('None!')\n",
    "\n",
    "\n"
   ]
  },
  {
   "cell_type": "markdown",
   "metadata": {},
   "source": [
    "<p>Considering the code below, write code that prints out <strong>True!</strong> if the last element of the first range is greater than 3, prints out <strong>False!</strong> if the last element of the second range is less than 9, and prints out <strong>None!</strong> otherwise.</p>"
   ]
  },
  {
   "cell_type": "code",
   "execution_count": 72,
   "metadata": {},
   "outputs": [
    {
     "name": "stdout",
     "output_type": "stream",
     "text": [
      "[[0, 1, 2, 3, 4], [5, 6, 7, 8], [1, 4, 7]]\n"
     ]
    }
   ],
   "source": [
    "x = [list(range(5)), list(range(5,9)), list(range(1,10,3))]\n",
    "if x[0][-1] > 3 :\n",
    "  print(\"True\")\n",
    "elif x[1][-1] < 9 :\n",
    "  print(\"False\")\n",
    "else:\n",
    "  print(\"None\")\n",
    "print(x)\n"
   ]
  },
  {
   "cell_type": "code",
   "execution_count": 305,
   "metadata": {},
   "outputs": [
    {
     "name": "stdout",
     "output_type": "stream",
     "text": [
      "True!\n"
     ]
    }
   ],
   "source": [
    "if x[0][-1] > 3:\n",
    "    print('True!')\n",
    "elif x[1][-1] < 9:\n",
    "    print('False!')\n",
    "else:\n",
    "    print('None!')"
   ]
  },
  {
   "cell_type": "markdown",
   "metadata": {},
   "source": [
    "<p>Considering the code below, write code that prints out <strong>True!</strong> if the length of the first range is greater than or equal to 5, prints out <strong>False!</strong> if the length of the second range is 4, and prints out <strong>None!</strong> otherwise.</p>\n"
   ]
  },
  {
   "cell_type": "code",
   "execution_count": 74,
   "metadata": {},
   "outputs": [
    {
     "name": "stdout",
     "output_type": "stream",
     "text": [
      "True!\n",
      "[[0, 1, 2, 3, 4], [5, 6, 7, 8], [1, 4, 7]]\n"
     ]
    }
   ],
   "source": [
    "x = [list(range(5)), list(range(5,9)), list(range(1,10,3))]\n",
    "if len(x[0]) >= 5:\n",
    "    print('True!')\n",
    "elif len(x[1]) == 4:\n",
    "    print('False!')\n",
    "else:\n",
    "    print('None!')\n",
    "print(x)"
   ]
  },
  {
   "cell_type": "code",
   "execution_count": 306,
   "metadata": {},
   "outputs": [
    {
     "name": "stdout",
     "output_type": "stream",
     "text": [
      "True!\n"
     ]
    }
   ],
   "source": [
    "x = [list(range(5)), list(range(5,9)), list(range(1,10,3))]\n",
    "if len(x[0]) >= 5:\n",
    "    print('True!')\n",
    "elif len(x[1]) == 4:\n",
    "    print('False!')\n",
    "else:\n",
    "    print('None!')\n",
    "    "
   ]
  },
  {
   "cell_type": "markdown",
   "metadata": {},
   "source": [
    "<p>Considering the code below, write code that prints out <strong>True!</strong> if the sum of all the elements of the first range is greater than the sum of all the elements of the third range, prints out <strong>False!</strong> if the largest element of the second range is greater than the largest element of the third range, and prints out <strong>None!</strong> otherwise.</p>"
   ]
  },
  {
   "cell_type": "code",
   "execution_count": 75,
   "metadata": {},
   "outputs": [
    {
     "name": "stdout",
     "output_type": "stream",
     "text": [
      "[[0, 1, 2, 3, 4], [5, 6, 7, 8], [1, 4, 7]]\n"
     ]
    }
   ],
   "source": [
    "x = [list(range(5)), list(range(5,9)), list(range(1,10,3))]\n",
    "\n",
    "print(x)"
   ]
  },
  {
   "cell_type": "code",
   "execution_count": 76,
   "metadata": {},
   "outputs": [
    {
     "name": "stdout",
     "output_type": "stream",
     "text": [
      "False!\n"
     ]
    }
   ],
   "source": [
    "\n",
    "if sum(x[0]) > sum(x[2]):\n",
    "    print('True!')\n",
    "elif max(x[1]) > max(x[2]):\n",
    "    print('False!')\n",
    "else:\n",
    "    print('None!')"
   ]
  },
  {
   "cell_type": "markdown",
   "metadata": {},
   "source": [
    "<p>Considering the code below, write code that prints out <strong>True!</strong> if the largest element of the first range minus the second element of the 3rd range is equal to the first element of the first range, prints out <strong>False!</strong> if the length of the first range minus the length of the 2nd range is equal to the first element of the 3rd range, prints out <strong>Maybe!</strong> if the sum of all the elements of the 3rd range divided by 2 returns a remainder of 0, and prints out <strong>None!</strong> otherwise.</p>"
   ]
  },
  {
   "cell_type": "code",
   "execution_count": 78,
   "metadata": {},
   "outputs": [
    {
     "name": "stdout",
     "output_type": "stream",
     "text": [
      "True!\n",
      "[[0, 1, 2, 3, 4], [5, 6, 7, 8], [1, 4, 7]]\n"
     ]
    }
   ],
   "source": [
    "x = [list(range(5)), list(range(5,9)), list(range(1,10,3))]\n",
    "if max(x[0]) - x[2][1] == x[0][0]:\n",
    "    print('True!')\n",
    "elif len(x[0]) - len(x[1]) == x[2][0]:\n",
    "    print('False!')\n",
    "elif sum(x[2]) % 2 == 0:\n",
    "    print('Maybe!')\n",
    "else:\n",
    "    print('None!')\n",
    "\n",
    "print(x)\n",
    "\n"
   ]
  },
  {
   "cell_type": "code",
   "execution_count": 312,
   "metadata": {},
   "outputs": [
    {
     "name": "stdout",
     "output_type": "stream",
     "text": [
      "True!\n"
     ]
    }
   ],
   "source": [
    "if max(x[0]) - x[2][1] == x[0][0]:\n",
    "    print('True!')\n",
    "elif len(x[0]) - len(x[1]) == x[2][0]:\n",
    "    print('False!')\n",
    "elif sum(x[2]) % 2 == 0:\n",
    "    print('Maybe!')\n",
    "else:\n",
    "    print('None!')\n"
   ]
  },
  {
   "cell_type": "markdown",
   "metadata": {},
   "source": [
    "<p>Considering the code below, write code that prints out <strong>True!</strong> if the sum of the last 3 elements of the first range plus the sum of the last 3 elements of the 3rd range is equal to the sum of the last 3 elements of the 2nd range, and prints out <strong>False!</strong> if the length of the first range times 2 is less than the sum of all the elements of the 3rd range.</p>"
   ]
  },
  {
   "cell_type": "code",
   "execution_count": 80,
   "metadata": {},
   "outputs": [
    {
     "name": "stdout",
     "output_type": "stream",
     "text": [
      "[[0, 1, 2, 3, 4], [5, 6, 7, 8], [1, 4, 7]]\n"
     ]
    }
   ],
   "source": [
    "x = [list(range(5)), list(range(5,9)), list(range(1,10,3))]\n",
    "\n",
    "print(x)"
   ]
  },
  {
   "cell_type": "code",
   "execution_count": 84,
   "metadata": {},
   "outputs": [
    {
     "name": "stdout",
     "output_type": "stream",
     "text": [
      "True!\n",
      "False!\n",
      "True\n",
      "False\n"
     ]
    }
   ],
   "source": [
    "if sum(x[0][-3:]) + sum(x[2][-3:]) == sum(x[1][-3:]):\n",
    "    print('True!')\n",
    "if len(x[0]) * 2 < sum(x[2]):\n",
    "    print('False!')\n",
    "# Alternatif\n",
    "\n",
    "if sum(x[0][-1:-4:-1]) + sum(x[2][-1:-4:-1]) == sum(x[1][-1:-4:-1]):\n",
    "    print(\"True\")\n",
    "if len(x[0])*2 < sum(x[2]):\n",
    "    print(\"False\")"
   ]
  },
  {
   "cell_type": "markdown",
   "metadata": {},
   "source": [
    "<p>Considering the code below, write code that prints out <strong>True!</strong> if the 2nd character of the value at key 1 is also present in the value at key 4, and prints out <strong>False!</strong> otherwise.</p>"
   ]
  },
  {
   "cell_type": "code",
   "execution_count": 85,
   "metadata": {},
   "outputs": [
    {
     "name": "stdout",
     "output_type": "stream",
     "text": [
      "True!\n"
     ]
    }
   ],
   "source": [
    "x = {1: \"Python\", 2: \"Java\", 3: \"Javascript\", 4: \"Ruby\", 5: \"Perl\", 6: \"C#\", 7: \"C++\"}\n",
    "if x[1][1] in x[4]:\n",
    "    print('True!')\n",
    "else:\n",
    "    print('False!')\n"
   ]
  },
  {
   "cell_type": "code",
   "execution_count": 86,
   "metadata": {},
   "outputs": [
    {
     "name": "stdout",
     "output_type": "stream",
     "text": [
      "True!\n"
     ]
    }
   ],
   "source": [
    "if x[1][1] in x[4]:\n",
    "    print('True!')\n",
    "else:\n",
    "    print('False!')\n"
   ]
  },
  {
   "cell_type": "markdown",
   "metadata": {},
   "source": [
    "<p>Considering the code below, write code that prints out <strong>True!</strong> if the second to last character of the value at key 3 is the first character of the value at key 5, and prints out <strong>False!</strong> otherwise.</p>"
   ]
  },
  {
   "cell_type": "code",
   "execution_count": 87,
   "metadata": {},
   "outputs": [
    {
     "name": "stdout",
     "output_type": "stream",
     "text": [
      "False!\n"
     ]
    }
   ],
   "source": [
    "x = {1: \"Python\", 2: \"Java\", 3: \"Javascript\", 4: \"Ruby\", 5: \"Perl\", 6: \"C#\", 7: \"C++\"}\n",
    "\n",
    "\n"
   ]
  },
  {
   "cell_type": "code",
   "execution_count": 88,
   "metadata": {},
   "outputs": [
    {
     "name": "stdout",
     "output_type": "stream",
     "text": [
      "False!\n"
     ]
    }
   ],
   "source": [
    "if x[3][-2] == x[5][0]:\n",
    "    print('True!')\n",
    "else:\n",
    "    print('False!')\n",
    "\n",
    "# Alternatif\n",
    "if x[5].startswith(x[3][-2]):\n",
    "    print('True!')\n",
    "else:\n",
    "    print('False!')\n"
   ]
  },
  {
   "cell_type": "markdown",
   "metadata": {},
   "source": [
    "<p>Considering the code below, write code that prints out <strong>True!</strong> if the number of characters of the smallest value in the dictionary is equal to the number of occurrences of letter <strong>a </strong>in the value at key 3, and prints out <strong>False!</strong> otherwise.</p>"
   ]
  },
  {
   "cell_type": "code",
   "execution_count": 45,
   "metadata": {},
   "outputs": [],
   "source": [
    "x = {1: \"Python\", 2: \"Java\", 3: \"Javascript\", 4: \"Ruby\", 5: \"Perl\", 6: \"C#\", 7: \"C++\"}\n",
    "\n",
    "\n"
   ]
  },
  {
   "cell_type": "code",
   "execution_count": 89,
   "metadata": {},
   "outputs": [
    {
     "name": "stdout",
     "output_type": "stream",
     "text": [
      "True!\n"
     ]
    }
   ],
   "source": [
    "if len(min(x.values())) == x[3].count('a'):\n",
    "    print('True!')\n",
    "else:\n",
    "    print('False!')\n"
   ]
  },
  {
   "cell_type": "markdown",
   "metadata": {},
   "source": []
  }
 ],
 "metadata": {
  "kernelspec": {
   "display_name": "Python 3.10.4 64-bit",
   "language": "python",
   "name": "python3"
  },
  "language_info": {
   "codemirror_mode": {
    "name": "ipython",
    "version": 3
   },
   "file_extension": ".py",
   "mimetype": "text/x-python",
   "name": "python",
   "nbconvert_exporter": "python",
   "pygments_lexer": "ipython3",
   "version": "3.10.4"
  },
  "orig_nbformat": 4,
  "vscode": {
   "interpreter": {
    "hash": "a42ccb73e7d9bfdf27e036f1d2b8b681e55fc0743cc5586bc2474d4a60f4b886"
   }
  }
 },
 "nbformat": 4,
 "nbformat_minor": 2
}
