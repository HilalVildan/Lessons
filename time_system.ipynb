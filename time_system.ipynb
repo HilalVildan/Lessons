{
 "cells": [
  {
   "cell_type": "code",
   "execution_count": null,
   "metadata": {},
   "outputs": [],
   "source": []
  },
  {
   "cell_type": "code",
   "execution_count": null,
   "metadata": {},
   "outputs": [],
   "source": [
    "import time\n",
    "for hour in range(24):\n",
    "   for minute in range(60):\n",
    "      for second in range(60):\n",
    "         print(f\"{hour:0>2d}:{minute:0>2d}:{second:0>2d}\", end='\\r')\n",
    "         time.sleep(1)\n",
    "\n",
    "         # Test\n",
    "         if second==1:\n",
    "            print(\"Time finished.\", end=\"\\r\")\n",
    "            break\n",
    "\n",
    "      # Test\n",
    "      if minute==1:\n",
    "         print(\"Time finished.\")\n",
    "         break\n",
    "\n",
    "print(\"1 day completed.\")"
   ]
  }
 ],
 "metadata": {
  "interpreter": {
   "hash": "aee8b7b246df8f9039afb4144a1f6fd8d2ca17a180786b69acc140d282b71a49"
  },
  "kernelspec": {
   "display_name": "Python 3.10.4 64-bit",
   "language": "python",
   "name": "python3"
  },
  "language_info": {
   "codemirror_mode": {
    "name": "ipython",
    "version": 3
   },
   "file_extension": ".py",
   "mimetype": "text/x-python",
   "name": "python",
   "nbconvert_exporter": "python",
   "pygments_lexer": "ipython3",
   "version": "3.10.4"
  },
  "orig_nbformat": 4
 },
 "nbformat": 4,
 "nbformat_minor": 2
}
