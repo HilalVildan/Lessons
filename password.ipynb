{
 "cells": [
  {
   "cell_type": "code",
   "execution_count": 1,
   "metadata": {},
   "outputs": [
    {
     "name": "stdout",
     "output_type": "stream",
     "text": [
      "Hakkiniz doldu\n"
     ]
    }
   ],
   "source": [
    "##password girisinde 3 hak taninsin, 3 kez yanlis password girilirse hakkiniz doldu densin\n",
    "\n",
    "sayac = 0\n",
    "while True:\n",
    "    password = input(\"Password giriniz...\")\n",
    "    if password == \"clarusway\":\n",
    "        print(\"Hos geldiniz\")\n",
    "        break\n",
    "    sayac +=1\n",
    "    if sayac == 3:\n",
    "        print(\"Hakkiniz doldu\")\n",
    "        break"
   ]
  },
  {
   "cell_type": "code",
   "execution_count": null,
   "metadata": {},
   "outputs": [],
   "source": [
    "sayac = 0\n",
    "while sayac <3:\n",
    "    password = input(\"Password giriniz...\")\n",
    "    if password == \"clarusway\":\n",
    "        print(\"Hos geldiniz\")\n",
    "        break\n",
    "    sayac +=1\n",
    "    if sayac == 3:\n",
    "        print(\"Hakkiniz doldu\")\n",
    "        break"
   ]
  }
 ],
 "metadata": {
  "interpreter": {
   "hash": "aee8b7b246df8f9039afb4144a1f6fd8d2ca17a180786b69acc140d282b71a49"
  },
  "kernelspec": {
   "display_name": "Python 3.10.4 64-bit",
   "language": "python",
   "name": "python3"
  },
  "language_info": {
   "codemirror_mode": {
    "name": "ipython",
    "version": 3
   },
   "file_extension": ".py",
   "mimetype": "text/x-python",
   "name": "python",
   "nbconvert_exporter": "python",
   "pygments_lexer": "ipython3",
   "version": "3.10.4"
  },
  "orig_nbformat": 4
 },
 "nbformat": 4,
 "nbformat_minor": 2
}
