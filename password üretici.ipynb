{
 "cells": [
  {
   "cell_type": "code",
   "execution_count": null,
   "metadata": {},
   "outputs": [],
   "source": [
    "## Soru: password generator \n",
    "## en az 1 harf (küçük, büyük), 1 rakam, 1 noktalama işaretinden oluşan bir şifre nasl oluştururuz?\n",
    "import string\n",
    "import random\n",
    "s1 = string.ascii_lowercase #küçük harf listesi\n",
    "s2 = string.ascii_uppercase #büyük harf listesi\n",
    "s3 = string.digits          #rakam listesi\n",
    "s4 = string.punctuation     #noktalama karakterlerinin listesi\n",
    "liste = [] #boş liste\n",
    "liste = s1 + s2 + s3 + s4\n",
    "print(\"Üretilen Password..:\")\n",
    "print(liste)\n",
    "#print(random.sample(liste, 8))\n",
    "print(\"\".join(random.sample(liste, 8)))"
   ]
  },
  {
   "cell_type": "code",
   "execution_count": null,
   "metadata": {},
   "outputs": [],
   "source": [
    "import string\n",
    "import random\n",
    "s1 = random.sample(string.ascii_lowercase,2) #küçük harf listesi\n",
    "s2 = random.sample(string.ascii_uppercase,2) #büyük harf listesi\n",
    "s3 = random.sample(string.digits,2)         #rakam listesi\n",
    "s4 = random.sample(string.punctuation,2)    #noktalama karakterlerinin listesi\n",
    "liste = [] #boş liste\n",
    "liste = s1 + s2 + s3 + s4\n",
    "print(\"Üretilen Password..:\")\n",
    "random.shuffle(liste)\n",
    "print(\"\".join(liste))\n",
    "#print(random.sample(liste, 8))\n",
    "#print(\"\".join(random.sample(liste, 8)))"
   ]
  }
 ],
 "metadata": {
  "language_info": {
   "name": "python"
  },
  "orig_nbformat": 4
 },
 "nbformat": 4,
 "nbformat_minor": 2
}
