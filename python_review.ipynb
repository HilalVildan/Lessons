{
 "cells": [
  {
   "cell_type": "markdown",
   "metadata": {},
   "source": [
    "-----------------STRING"
   ]
  },
  {
   "cell_type": "code",
   "execution_count": null,
   "metadata": {},
   "outputs": [],
   "source": [
    "print(\"2\"+2) ##hata verir string ve int toplanmaz."
   ]
  },
  {
   "cell_type": "code",
   "execution_count": 2,
   "metadata": {},
   "outputs": [
    {
     "name": "stdout",
     "output_type": "stream",
     "text": [
      " I'm Hilal\n"
     ]
    }
   ],
   "source": [
    "print(''' I'm Hilal''')"
   ]
  },
  {
   "cell_type": "code",
   "execution_count": null,
   "metadata": {},
   "outputs": [],
   "source": [
    "a = \"Hello, World!\" ## bosluklar dahil uzunlugunu sayar\n",
    "print(len(a))"
   ]
  },
  {
   "cell_type": "code",
   "execution_count": 7,
   "metadata": {},
   "outputs": [
    {
     "name": "stdout",
     "output_type": "stream",
     "text": [
      "h\n",
      "hlow\n"
     ]
    }
   ],
   "source": [
    "# ------Slicing\n",
    "#     - stringReference [ start : pastEnd ]\n",
    "#     - stringReference [ : pastEnd ]\n",
    "#     - stringReference [ start : ]\n",
    "#     - stringReference [ : ]\n",
    "#     - Change the order: s[::-1]\n",
    "\n",
    "a=\"hello world\"\n",
    "index_null=a[0]\n",
    "print(index_null)\n",
    "\n",
    "b=\"hello world2\"\n",
    "slicing=a[0:7:2] #start:stop:step\n",
    "print(slicing)\n"
   ]
  },
  {
   "cell_type": "code",
   "execution_count": 38,
   "metadata": {},
   "outputs": [
    {
     "name": "stdout",
     "output_type": "stream",
     "text": [
      "HELLO FRIEND\n",
      "hello friend\n",
      "Hello Friens\n",
      "Hello friend\n",
      "1\n",
      "['hello', 'friend']\n",
      "['hell o', 'riend']\n",
      "True\n",
      "False\n",
      "of all hello friend\n",
      "banana\n"
     ]
    }
   ],
   "source": [
    "#----- String Methods\n",
    "# upper() # Returns an uppercase version of the string\n",
    "\n",
    "txt = \"hello friend\"\n",
    "x = txt.upper()\n",
    "print(x)\n",
    "\n",
    "# lower() # Returns a lowercase version of the string, hepsini kücük yapar\n",
    "\n",
    "txt = \"HELlo Friend\"\n",
    "x = txt.lower()\n",
    "print(x)\n",
    "\n",
    "# title() # her kelimenin ilk harfini büyük kalani kücük yapar\n",
    "\n",
    "txt = \"hello fRIENS\"\n",
    "x = txt.title()\n",
    "print(x)\n",
    "\n",
    "# capitalize() # sadece cümlenin ilk harfini büyük geri kalan hepsini kücük yazar\n",
    "\n",
    "txt = \"hello Friend\"\n",
    "x = txt.capitalize()\n",
    "print(x)\n",
    "\n",
    "# count(item)  # Returns the number of repetitions of the substring sub inside s.\n",
    "                # stringin icinde kac tane \"h\" var onu döndurdu\n",
    "\n",
    "txt = \"hello friend\"\n",
    "x = txt.count(\"h\")\n",
    "print(x)\n",
    "\n",
    "# split() # Splits at any sequence of whitespace (blanks, newlines, tabs) and returns the remaining parts of s as a list\n",
    "            # kelimeleri ayirir\n",
    "\n",
    "txt = \"hello friend\"\n",
    "x = txt.split()\n",
    "print(x)\n",
    "\n",
    "# split(sep)  # Separator that gets removed from between the parts of the list.\n",
    "\n",
    "txt = \"hell ofriend\"\n",
    "x = txt.split(\"f\")\n",
    "print(x)\n",
    "\n",
    "# startswith() # True/False\n",
    "\n",
    "txt = \"hello friend\"\n",
    "x = txt.startswith(\"h\")\n",
    "print(x)\n",
    "\n",
    "# endswith() # True/False\n",
    "\n",
    "txt = \"hello friend\"\n",
    "x = txt.endswith(\"h\")\n",
    "print(x)\n",
    "\n",
    "# strip([chars]) # Returns a copy of the string with both leading and trailing characters removed\n",
    "                # saginda ve solunda bosluklar varsa onlari ataar\n",
    "\n",
    "txt = \"          hello friend             \"\n",
    "x = txt.strip()\n",
    "print(\"of all\", x)\n",
    "\n",
    "txt = \",,,,rrrtttgg........banana......rrr\"\n",
    "x= txt.strip(\",.grt\")\n",
    "print(x)\n",
    "\n",
    "\n"
   ]
  },
  {
   "cell_type": "markdown",
   "metadata": {},
   "source": [
    "--------------------INTEGER"
   ]
  },
  {
   "cell_type": "code",
   "execution_count": null,
   "metadata": {},
   "outputs": [],
   "source": [
    "# - Literal integer values may not contain a decimal point.\n",
    "# - Integers may be arbitrarily large and are stored exactly.\n",
    "# - Integers have normal operations, with usual precedence (highest listed first):\n",
    "#     - \\*\\*: exponentiation (5\\*\\*3 means 5\\*5\\*5)\n",
    "#     - *, multiplication\n",
    "#     - /, division with float result\n",
    "#     - //, floor divisions result int, integer division (ignoring any remainder)\n",
    "#     - %, modulus just the remainder from division \n",
    "#     - +, -: addition, subtraction"
   ]
  },
  {
   "cell_type": "markdown",
   "metadata": {},
   "source": [
    "-----------------------BOOLEAN"
   ]
  },
  {
   "cell_type": "code",
   "execution_count": 39,
   "metadata": {},
   "outputs": [
    {
     "name": "stdout",
     "output_type": "stream",
     "text": [
      "x == y: False\n",
      "x != y: True\n",
      "x < y: True\n",
      "x > y: False\n",
      "x <= y: True\n",
      "x >= y: False\n"
     ]
    }
   ],
   "source": [
    "# ==\tEqual to\n",
    "# !=\tNot equal to\n",
    "# <\t    Less than\n",
    "# >\t    Greater than\n",
    "# <=\tLess than or equal to\n",
    "# >=\tGreater than or equal to\n",
    "\n",
    "x = 5\n",
    "y = 8\n",
    "\n",
    "print(\"x == y:\", x == y)\n",
    "print(\"x != y:\", x != y)\n",
    "print(\"x < y:\", x < y)\n",
    "print(\"x > y:\", x > y)\n",
    "print(\"x <= y:\", x <= y)\n",
    "print(\"x >= y:\", x >= y)"
   ]
  },
  {
   "cell_type": "markdown",
   "metadata": {},
   "source": [
    "--------------------LOGICAL OPERATORS"
   ]
  },
  {
   "cell_type": "code",
   "execution_count": 45,
   "metadata": {},
   "outputs": [
    {
     "name": "stdout",
     "output_type": "stream",
     "text": [
      "1\n",
      "0\n",
      "4\n"
     ]
    }
   ],
   "source": [
    "print(1 or 0 or 2)\n",
    "\n",
    "print(1 and 2 and 0 and None)\n",
    "\n",
    "print(1 and 2 and 3 and 4)\n",
    "\n",
    "## OT = ilk,,,,, yani or operatorü hepsi true ise ilki döndurur. \n",
    "## AF = son,,,,, yani and operatoru hepsi true ise en sondakini döndürür. fakat arada bir tane bile false varsa ilk false u döndürür.\n",
    "\n",
    "# [] {} 0 None  # False\n",
    "\n",
    "if []:\n",
    "    print(\"This is true\")\n",
    "\n",
    "# Will not print anything since [] is falsy."
   ]
  },
  {
   "cell_type": "markdown",
   "metadata": {},
   "source": [
    "-----------------COLLECTION DATA TYPES"
   ]
  },
  {
   "cell_type": "code",
   "execution_count": null,
   "metadata": {},
   "outputs": [],
   "source": [
    "# - List\n",
    "# - Tuple\n",
    "# - Dictionary\n",
    "# - Set"
   ]
  },
  {
   "cell_type": "code",
   "execution_count": 70,
   "metadata": {},
   "outputs": [
    {
     "name": "stdout",
     "output_type": "stream",
     "text": [
      "[1, '2', '3', 4]\n",
      "[]\n",
      "[1, '2', '3']\n",
      "2\n",
      "['apple', 'banana', 'cherry', 'Ford', 'BWM', 'Volvo']\n",
      "['apple', 'banana', 'cherry', ['Ford', 'BWM', 'Volvo']]\n",
      "2\n",
      "['apple', 'banana']\n",
      "['apple', 'cherry']\n",
      "['banana', 'cherry']\n",
      "['cherry', 'banana', 'apple']\n",
      "['apple', 'banana', 'cherry']\n",
      "['cherry', 'banana', 'apple']\n"
     ]
    }
   ],
   "source": [
    "## 1.LIST METHODS\n",
    "\n",
    "# append() # listenin en sonuna eleman ekler\n",
    "\n",
    "list = [1,\"2\",\"3\"]\n",
    "list.append(4)\n",
    "print(list) \n",
    "\n",
    "# clear() # listeyi bosaltiyor\n",
    "list = [1,\"2\",\"3\"]\n",
    "list.clear()\n",
    "print(list) \n",
    "\n",
    "# copy() # listeyi kopyalar, list bir degisikligine ugradiginda list2 etkilenmez fakat list=list2 yazsaydik etkilenecekti..\n",
    "list = [1,\"2\",\"3\"]\n",
    "list2 = list.copy()\n",
    "print(list2)\n",
    "\n",
    "#count() # listedeki elemanin kac tane oldugunu sayar\n",
    "\n",
    "list = [\"apple\", 1, 1,\"2\",\"3\"]\n",
    "count = list.count(1)\n",
    "print(count) \n",
    "\n",
    "#extend() # listeyi genisletir. appendden farki budur\n",
    "fruits = ['apple', 'banana', 'cherry']\n",
    "cars = ['Ford', 'BWM', 'Volvo']\n",
    "fruits.extend(cars)\n",
    "print(fruits)\n",
    "\n",
    "fruits = ['apple', 'banana', 'cherry'] ###append diger listeyi sonuna direkt ekledi.\n",
    "cars = ['Ford', 'BWM', 'Volvo']\n",
    "fruits.append(cars)\n",
    "print(fruits)\n",
    "\n",
    "#index()  # liste elemani kacinci indexte onu bulur\n",
    "fruits = ['apple', 'banana', 'cherry']\n",
    "index = fruits.index('cherry')\n",
    "print(index)\n",
    "\n",
    "#pop()  #listeden eleman cikarir. hangi indexi yazarsan o eleman cikar. hicbir sey yazmazsan sondaki eleamn cikar.\n",
    "fruits = ['apple', 'banana', 'cherry']\n",
    "fruits.pop()\n",
    "print(fruits)\n",
    "\n",
    "fruits = ['apple', 'banana', 'cherry']\n",
    "fruits.pop(1)\n",
    "print(fruits)\n",
    "\n",
    "#remove()  # indeksi bilinmeyen elemanlari cikarmak anlamina gelir. elemanin ismi biliniyorsa bu elemani cikar anlamina gelir.\n",
    "fruits = ['apple', 'banana', 'cherry']\n",
    "fruits.remove('apple')\n",
    "print(fruits)\n",
    "\n",
    "#reverse()  # listeyi tersine cevirir\n",
    "fruits = ['apple', 'banana', 'cherry']\n",
    "fruits.reverse()\n",
    "print(fruits)\n",
    "\n",
    "#sort() #listeyi ascii tablosuna göre kücükten büyüge siralar. fakat parantez icine reverse=True yazilirsa büyükten kücüge siralar \n",
    "fruits = ['apple', 'cherry','banana']\n",
    "fruits.sort()\n",
    "print(fruits)\n",
    "\n",
    "fruits = ['apple', 'cherry','banana']\n",
    "fruits.sort(reverse=True)\n",
    "print(fruits)\n",
    "\n"
   ]
  },
  {
   "cell_type": "code",
   "execution_count": 72,
   "metadata": {},
   "outputs": [
    {
     "name": "stdout",
     "output_type": "stream",
     "text": [
      "<class 'str'>\n",
      "banana\n",
      "3\n",
      "3\n",
      "8\n"
     ]
    }
   ],
   "source": [
    "# 2. TUPLE METHODS\n",
    "\n",
    "# Tuples may be constructed in a number of ways:\n",
    "# - Using a pair of parentheses to denote the empty tuple: ()\n",
    "# - Using a trailing comma for a singleton tuple: \"a\", or (\"a\",)\n",
    "# - Separating items with commas: \"a\", \"b\", \"c\" or (\"a\", \"b\", \"c\")\n",
    "# - Using the tuple() built-in: tuple() or tuple(iterable)\n",
    "\n",
    "# NOT a tuple\n",
    "thistuple = (\"apple\")\n",
    "print(type(thistuple))\n",
    "\n",
    "# A tuple with strings, integers and boolean values:\n",
    "tuple1 = (\"abc\", 34, True, 40, \"male\")\n",
    "\n",
    "# Print the second item in the tuple:\n",
    "thistuple = (\"apple\", \"banana\", \"cherry\")\n",
    "print(thistuple[1])\n",
    "\n",
    "\n",
    "# count()\t# Returns the number of times a specified value occurs in a tuple\n",
    "\n",
    "thistuple = (1, 2, 4, 5, 6, 5, 5, 8, 7)\n",
    "x= thistuple.count(5)\n",
    "print(x)\n",
    "\n",
    "\n",
    "# index()\t# Searches the tuple for a specified value and returns the position of where it was found\n",
    "thistuple = (1, 2, 4, 5, 6, 5, 5, 8, 7)\n",
    "x= thistuple.index(5)\n",
    "print(x)\n",
    "\n",
    "thistuple = (1, 2, 4, 5, 6, 5, 5, 8, 7)\n",
    "x= thistuple.index(7)\n",
    "print(x)\n"
   ]
  },
  {
   "cell_type": "code",
   "execution_count": 86,
   "metadata": {},
   "outputs": [
    {
     "name": "stdout",
     "output_type": "stream",
     "text": [
      "{}\n",
      "{'brand': 'Ford', 'model': 'Mustang', 'year': 1964}\n",
      "{'key1': 0, 'key2': 0, 'key3': 0}\n",
      "Mustang\n",
      "Mustang\n",
      "dict_items([('brand', 'Ford'), ('model', 'Mustang'), ('year', 1964)])\n",
      "dict_keys(['brand', 'model', 'year'])\n",
      "dict_values(['Ford', 'Mustang', 1964])\n",
      "{'brand': 'Ford', 'year': 1964}\n",
      "{'brand': 'Ford', 'model': 'Mustang'}\n",
      "{'brand': 'Ford', 'model': 'Mustang', 'year': 1964, 'color': 'red'}\n",
      "{'brand': 'BMW', 'model': 'Mustang', 'year': 1964}\n",
      "{'brand': 'Ford', 'model': 'BMW', 'year': 1964}\n"
     ]
    }
   ],
   "source": [
    "# 3. DICTIONARY METHODS\n",
    "\n",
    "## Dictionaries are used to store data values in key:value pairs.\n",
    "\n",
    "# clear()\t# Removes all the elements from the dictionary\n",
    "\n",
    "thisdict = {\n",
    "  \"brand\": \"Ford\",\n",
    "  \"model\": \"Mustang\",\n",
    "  \"year\": 1964\n",
    "}\n",
    "thisdict.clear()\n",
    "print(thisdict)\n",
    "\n",
    "# copy()  # kopyalar\n",
    "\n",
    "thisdict = {\n",
    "  \"brand\": \"Ford\",\n",
    "  \"model\": \"Mustang\",\n",
    "  \"year\": 1964\n",
    "}\n",
    "x = thisdict.copy()\n",
    "print(x)\n",
    "\n",
    "# fromkeys() valuesi 0 olan dict olusturduk\n",
    "x = ('key1', 'key2', 'key3')\n",
    "y = 0\n",
    "\n",
    "thisdict = dict.fromkeys(x, y)\n",
    "print(thisdict)\n",
    "\n",
    "# get()\t# Returns the value of the specified key..... value getirir\n",
    "\n",
    "thisdict = {\n",
    "  \"brand\": \"Ford\",\n",
    "  \"model\": \"Mustang\",\n",
    "  \"year\": 1964\n",
    "}\n",
    "x = thisdict.get('model')\n",
    "y = thisdict['model']\n",
    "print(x)\n",
    "print(y)\n",
    "\n",
    "# items()\t# Returns a list containing a tuple for each key value pair...... key ve value ikilisini liste seklinde döndurur\n",
    "\n",
    "thisdict = {\n",
    "  \"brand\": \"Ford\",\n",
    "  \"model\": \"Mustang\",\n",
    "  \"year\": 1964\n",
    "}\n",
    "x = thisdict.items()\n",
    "print(x)\n",
    "\n",
    "# keys()\t# Returns a list containing the dictionary's keys\n",
    "\n",
    "thisdict = {\n",
    "  \"brand\": \"Ford\",\n",
    "  \"model\": \"Mustang\",\n",
    "  \"year\": 1964\n",
    "}\n",
    "x = thisdict.keys()\n",
    "print(x)\n",
    "\n",
    "# values()\t# Returns a list of all the values in the dictionary\n",
    "\n",
    "thisdict = {\n",
    "  \"brand\": \"Ford\",\n",
    "  \"model\": \"Mustang\",\n",
    "  \"year\": 1964\n",
    "}\n",
    "x = thisdict.values()\n",
    "print(x)\n",
    "\n",
    "# pop()\t# Removes the element with the specified key......key ve value ciftini(items) siler. index olmadgi icin sol tarafta bulunan keyi yaziyoruz\n",
    "\n",
    "thisdict = {\n",
    "  \"brand\": \"Ford\",\n",
    "  \"model\": \"Mustang\",\n",
    "  \"year\": 1964\n",
    "}\n",
    "thisdict.pop('model')\n",
    "print(thisdict)\n",
    "\n",
    "# popitem()\t# Removes the last inserted key-value pair\n",
    "\n",
    "thisdict = {\n",
    "  \"brand\": \"Ford\",\n",
    "  \"model\": \"Mustang\",\n",
    "  \"year\": 1964\n",
    "}\n",
    "thisdict.popitem()\n",
    "print(thisdict)\n",
    "\n",
    "# update()\t# Updates the dictionary with the specified key-value pairs\n",
    "\n",
    "thisdict = {\n",
    "  \"brand\": \"Ford\",\n",
    "  \"model\": \"Mustang\",\n",
    "  \"year\": 1964\n",
    "}\n",
    "thisdict.update({'color':'red'})\n",
    "print(thisdict)\n",
    "\n",
    "thisdict = {\n",
    "  \"brand\": \"Ford\",\n",
    "  \"model\": \"Mustang\",\n",
    "  \"year\": 1964\n",
    "}\n",
    "thisdict.update({'brand':'BMW'})\n",
    "print(thisdict)\n",
    "\n",
    "thisdict = {\n",
    "  \"brand\": \"Ford\",\n",
    "  \"model\": \"Mustang\",\n",
    "  \"year\": 1964\n",
    "}\n",
    "thisdict['model']='BMW'\n",
    "print(thisdict)\n",
    "\n",
    "\n"
   ]
  },
  {
   "cell_type": "code",
   "execution_count": 109,
   "metadata": {},
   "outputs": [
    {
     "name": "stdout",
     "output_type": "stream",
     "text": [
      "{'orange', 'cherry', 'banana', 'apple'}\n",
      "set()\n",
      "{'cherry', 'banana', 'apple'}\n",
      "{'cherry', 'banana'}\n",
      "{'microsoft', 'google'}\n",
      "{'cherry', 'banana'}\n",
      "{'cherry', 'banana'}\n",
      "{'cherry', 'apple'}\n",
      "{'apple'}\n",
      "{'apple'}\n",
      "True\n",
      "False\n",
      "True\n",
      "{'banana', 'apple'}\n",
      "{'cherry', 'banana'}\n",
      "{'banana', 'microsoft', 'cherry', 'google'}\n",
      "{'banana', 'microsoft', 'google', 'cherry'}\n",
      "{'cherry', 'banana', 'google', 'microsoft', 'apple'}\n",
      "{'cherry', 'banana', 'google', 'microsoft', 'apple'}\n"
     ]
    }
   ],
   "source": [
    "# 4. SET METHODS\n",
    "\n",
    "# Sets are used to store multiple type of items in a single variable.\n",
    "# A set is a collection which is both unordered and unindexed.\n",
    "# Sets are written with curly brackets.\n",
    "# A set can contain different data types:\n",
    "# You cannot access items in a set by referring to an index or a key.\n",
    "\n",
    "# It is possible to use the set() constructor to make a set.\n",
    "\n",
    "# add()\t# Adds an element to the set\n",
    "\n",
    "set = {\"apple\", \"banana\", \"cherry\"}\n",
    "set.add(\"orange\")\n",
    "print(set)\n",
    "\n",
    "# clear()\t# Removes all the elements from the set\n",
    "\n",
    "set = {\"apple\", \"banana\", \"cherry\"}\n",
    "set.clear()\n",
    "print(set)\n",
    "\n",
    "# copy()\t# Returns a copy of the set\n",
    "\n",
    "set = {\"apple\", \"banana\", \"cherry\"}\n",
    "x = set.copy()\n",
    "print(x)\n",
    "\n",
    "# difference()\t# Returns a set containing the difference between two or more sets\n",
    "\n",
    "set1 = {\"apple\", \"banana\", \"cherry\"}\n",
    "set2 = {\"google\", \"microsoft\", \"apple\"}\n",
    "x = set1.difference(set2)\n",
    "print(x)\n",
    "\n",
    "set1 = {\"apple\", \"banana\", \"cherry\"}\n",
    "set2 = {\"google\", \"microsoft\", \"apple\"}\n",
    "x = set2.difference(set1)\n",
    "print(x)\n",
    "\n",
    "set1 = {\"apple\", \"banana\", \"cherry\"}\n",
    "set2 = {\"google\", \"microsoft\", \"apple\"}\n",
    "x = set1-set2\n",
    "print(x)\n",
    "\n",
    "# difference_update()\t# Removes the items in this set that are also included in another, specified set..... differenceden farki ayri bir degiskenle degil kümenin icinde yapiyor. yani set1 degismis oldu\n",
    "\n",
    "set1 = {\"apple\", \"banana\", \"cherry\"}\n",
    "set2 = {\"google\", \"microsoft\", \"apple\"}\n",
    "set1.difference_update(set2)\n",
    "print(x)\n",
    "\n",
    "# discard()\t# Remove the specified item...... setin icinde belirtilen elemani cikartir\n",
    "\n",
    "set = {\"apple\", \"banana\", \"cherry\"}\n",
    "set.discard('banana')\n",
    "print(set)\n",
    "\n",
    "# intersection()\t# Returns a set, that is the intersection of two other sets..... ortak elemanlari gösterir\n",
    "\n",
    "set1 = {\"apple\", \"banana\", \"cherry\"}\n",
    "set2 = {\"google\", \"microsoft\", \"apple\"}\n",
    "x = set1.intersection(set2)\n",
    "print(x)\n",
    "\n",
    "# intersection_update()\t# Removes the items in this set that are not present in other, specified set(s)\n",
    "\n",
    "set1 = {\"apple\", \"banana\", \"cherry\"}\n",
    "set2 = {\"google\", \"microsoft\", \"apple\"}\n",
    "set1.intersection_update(set2)\n",
    "print(set1)\n",
    "\n",
    "# isdisjoint()\t# Returns whether two sets have a intersection or not (TRUE/FALSE) ortak eleman yok mu ona bakar yoksa true varsa false\n",
    "\n",
    "set1 = {\"apple\", \"banana\", \"cherry\"}\n",
    "set2 = {\"google\", \"microsoft\", \"mac\"}\n",
    "x = set1.isdisjoint(set2)\n",
    "print(x)\n",
    "\n",
    "# issubset()\t# Returns whether another set contains this set or not (TRUE/FALSE) ortak eleman var mu ona bakar varsa true yoksa false\n",
    "\n",
    "set1 = {\"apple\", \"banana\", \"cherry\"}\n",
    "set2 = {\"google\", \"microsoft\", \"mac\"}\n",
    "x = set1.issubset(set2)\n",
    "print(x)\n",
    "\n",
    "# issuperset()\t# Returns whether this set contains another set or not...... set1 set2 yi kapsiyor mu (true/false)\n",
    "\n",
    "set1 = {\"apple\", \"banana\", \"cherry\"}\n",
    "set2 = {\"apple\"}\n",
    "x = set1.issuperset(set2)\n",
    "print(x)\n",
    "\n",
    "# pop()\t# Removes an element from the set.......rastgele\n",
    "\n",
    "set = {\"apple\", \"banana\", \"cherry\"}\n",
    "set.pop()\n",
    "print(set)\n",
    "\n",
    "# remove()\t# Removes the specified element\n",
    "\n",
    "set = {\"apple\", \"banana\", \"cherry\"}\n",
    "set.remove(\"apple\")\n",
    "print(set)\n",
    "\n",
    "# symmetric_difference()\t# Returns a set with the symmetric differences of two sets........farkli olan elemanlari birlestirir\n",
    "\n",
    "set1 = {\"apple\", \"banana\", \"cherry\"}\n",
    "set2 = {\"google\", \"microsoft\", \"apple\"}\n",
    "x = set1.symmetric_difference(set2)\n",
    "print(x)\n",
    "\n",
    "# symmetric_difference_update()\t# inserts the symmetric differences from this set and another\n",
    "\n",
    "set1 = {\"apple\", \"banana\", \"cherry\"}\n",
    "set2 = {\"google\", \"microsoft\", \"apple\"}\n",
    "set1.symmetric_difference_update(set2)\n",
    "print(set1)\n",
    "\n",
    "# union()\t# Return a set containing the union of sets...........ikisini birlestiri\n",
    "\n",
    "set1 = {\"apple\", \"banana\", \"cherry\"}\n",
    "set2 = {\"google\", \"microsoft\", \"apple\"}\n",
    "x = set1.union(set2)\n",
    "print(x)\n",
    "\n",
    "# update()\t# Update the set with the union of this set and others\n",
    "\n",
    "set1 = {\"apple\", \"banana\", \"cherry\"}\n",
    "set2 = {\"google\", \"microsoft\", \"apple\"}\n",
    "set1.update(set2)\n",
    "print(set1)\n",
    "\n"
   ]
  },
  {
   "cell_type": "code",
   "execution_count": null,
   "metadata": {},
   "outputs": [],
   "source": [
    "### Sets vs Lists and Tuples\n",
    "# Sets, unlike lists or tuples, cannot have multiple occurrences of the same element and store unordered values.\n",
    "\n",
    "# Usecase:\n",
    "# Remove duplicate values from a list or tuple and to perform common math operations like unions and intersections."
   ]
  },
  {
   "cell_type": "markdown",
   "metadata": {},
   "source": [
    "CONDITIONAL - IF"
   ]
  },
  {
   "cell_type": "code",
   "execution_count": null,
   "metadata": {},
   "outputs": [],
   "source": [
    "# Structure:\n",
    "a = 200\n",
    "b = 33\n",
    "if b > a:\n",
    "  print(\"b is greater than a\")\n",
    "elif a == b:\n",
    "  print(\"a and b are equal\")\n",
    "else:\n",
    "  print(\"a is greater than b\")"
   ]
  },
  {
   "cell_type": "markdown",
   "metadata": {},
   "source": [
    "LOOPS\n",
    "-WHILE\n",
    "-FOR"
   ]
  },
  {
   "cell_type": "code",
   "execution_count": 110,
   "metadata": {},
   "outputs": [
    {
     "name": "stdout",
     "output_type": "stream",
     "text": [
      "1\n",
      "2\n",
      "3\n"
     ]
    }
   ],
   "source": [
    "# With the break statement we can stop the loop even if the while condition is true\n",
    "i = 1\n",
    "while i < 6:\n",
    "  print(i)\n",
    "  if i == 3:\n",
    "    break\n",
    "  i += 1"
   ]
  },
  {
   "cell_type": "code",
   "execution_count": null,
   "metadata": {},
   "outputs": [],
   "source": [
    "fruits = [\"apple\", \"banana\", \"cherry\"]\n",
    "for x in fruits:\n",
    "  if x == \"banana\":\n",
    "    continue\n",
    "  print(x)"
   ]
  },
  {
   "cell_type": "code",
   "execution_count": 115,
   "metadata": {},
   "outputs": [
    {
     "name": "stdout",
     "output_type": "stream",
     "text": [
      "0\n",
      "1\n",
      "2\n",
      "3\n",
      "4\n",
      "5\n",
      "6\n",
      "7\n",
      "8\n",
      "9\n"
     ]
    }
   ],
   "source": [
    "# for x in range(6):\n",
    "#   print(x)\n",
    "a = range(10) \n",
    "for i in a:\n",
    "    print(i)"
   ]
  },
  {
   "cell_type": "code",
   "execution_count": 116,
   "metadata": {},
   "outputs": [
    {
     "name": "stdout",
     "output_type": "stream",
     "text": [
      "red apple\n",
      "red banana\n",
      "red cherry\n",
      "big apple\n",
      "big banana\n",
      "big cherry\n",
      "tasty apple\n",
      "tasty banana\n",
      "tasty cherry\n"
     ]
    }
   ],
   "source": [
    "#### NESTED LOOPS\n",
    "\n",
    "# Print each adjective for every fruit:\n",
    "adjs = [\"red\", \"big\", \"tasty\"]\n",
    "fruits = [\"apple\", \"banana\", \"cherry\"]\n",
    "\n",
    "for adj in adjs:\n",
    "  for fruit in fruits:\n",
    "    print(adj, fruit)"
   ]
  },
  {
   "cell_type": "code",
   "execution_count": 126,
   "metadata": {},
   "outputs": [],
   "source": [
    "#### PASS\n",
    "\n",
    "for x in [0, 1, 2]:\n",
    "    pass\n",
    "    "
   ]
  }
 ],
 "metadata": {
  "interpreter": {
   "hash": "aee8b7b246df8f9039afb4144a1f6fd8d2ca17a180786b69acc140d282b71a49"
  },
  "kernelspec": {
   "display_name": "Python 3.10.4 64-bit",
   "language": "python",
   "name": "python3"
  },
  "language_info": {
   "codemirror_mode": {
    "name": "ipython",
    "version": 3
   },
   "file_extension": ".py",
   "mimetype": "text/x-python",
   "name": "python",
   "nbconvert_exporter": "python",
   "pygments_lexer": "ipython3",
   "version": "3.10.4"
  },
  "orig_nbformat": 4
 },
 "nbformat": 4,
 "nbformat_minor": 2
}
