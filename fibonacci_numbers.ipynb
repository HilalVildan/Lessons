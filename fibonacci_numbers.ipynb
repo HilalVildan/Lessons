{
 "cells": [
  {
   "cell_type": "code",
   "execution_count": 6,
   "metadata": {},
   "outputs": [
    {
     "ename": "TypeError",
     "evalue": "'<' not supported between instances of 'list' and 'int'",
     "output_type": "error",
     "traceback": [
      "\u001b[0;31m---------------------------------------------------------------------------\u001b[0m",
      "\u001b[0;31mTypeError\u001b[0m                                 Traceback (most recent call last)",
      "\u001b[1;32m/Users/hilalvildansarioglu/Desktop/Lessons/fibonacci_numbers.ipynb Cell 1'\u001b[0m in \u001b[0;36m<cell line: 4>\u001b[0;34m()\u001b[0m\n\u001b[1;32m      <a href='vscode-notebook-cell:/Users/hilalvildansarioglu/Desktop/Lessons/fibonacci_numbers.ipynb#ch0000000?line=0'>1</a>\u001b[0m myArray1 \u001b[39m=\u001b[39m [\u001b[39m0\u001b[39m] \n\u001b[1;32m      <a href='vscode-notebook-cell:/Users/hilalvildansarioglu/Desktop/Lessons/fibonacci_numbers.ipynb#ch0000000?line=1'>2</a>\u001b[0m myArray2 \u001b[39m=\u001b[39m [\u001b[39m1\u001b[39m]\n\u001b[0;32m----> <a href='vscode-notebook-cell:/Users/hilalvildansarioglu/Desktop/Lessons/fibonacci_numbers.ipynb#ch0000000?line=3'>4</a>\u001b[0m \u001b[39mwhile\u001b[39;00m myArray2 \u001b[39m<\u001b[39;49m \u001b[39m700\u001b[39;49m:\n\u001b[1;32m      <a href='vscode-notebook-cell:/Users/hilalvildansarioglu/Desktop/Lessons/fibonacci_numbers.ipynb#ch0000000?line=4'>5</a>\u001b[0m     myArray1, myArray2 \u001b[39m=\u001b[39m b[i], myArray1\u001b[39m+\u001b[39mmyArray2[i]\n\u001b[1;32m      <a href='vscode-notebook-cell:/Users/hilalvildansarioglu/Desktop/Lessons/fibonacci_numbers.ipynb#ch0000000?line=5'>6</a>\u001b[0m     \u001b[39mprint\u001b[39m(myArray2)\n",
      "\u001b[0;31mTypeError\u001b[0m: '<' not supported between instances of 'list' and 'int'"
     ]
    }
   ],
   "source": [
    "myArray1 = [0] \n",
    "myArray2 = [1]\n",
    "\n",
    "while myArray2 < 700:\n",
    "    myArray1, myArray2 = b[i], myArray1+myArray2[i]\n",
    "    print(myArray2)"
   ]
  },
  {
   "cell_type": "code",
   "execution_count": 20,
   "metadata": {},
   "outputs": [
    {
     "name": "stdout",
     "output_type": "stream",
     "text": [
      "[0, 1]\n"
     ]
    },
    {
     "ename": "TypeError",
     "evalue": "list expected at most 1 argument, got 2",
     "output_type": "error",
     "traceback": [
      "\u001b[0;31m---------------------------------------------------------------------------\u001b[0m",
      "\u001b[0;31mTypeError\u001b[0m                                 Traceback (most recent call last)",
      "\u001b[1;32m/Users/hilalvildansarioglu/Desktop/Lessons/fibonacci_numbers.ipynb Cell 2'\u001b[0m in \u001b[0;36m<cell line: 3>\u001b[0;34m()\u001b[0m\n\u001b[1;32m      <a href='vscode-notebook-cell:/Users/hilalvildansarioglu/Desktop/Lessons/fibonacci_numbers.ipynb#ch0000002?line=0'>1</a>\u001b[0m fibonacci_numbers \u001b[39m=\u001b[39m [\u001b[39m0\u001b[39m,\u001b[39m1\u001b[39m]\n\u001b[1;32m      <a href='vscode-notebook-cell:/Users/hilalvildansarioglu/Desktop/Lessons/fibonacci_numbers.ipynb#ch0000002?line=1'>2</a>\u001b[0m \u001b[39mprint\u001b[39m(fibonacci_numbers)\n\u001b[0;32m----> <a href='vscode-notebook-cell:/Users/hilalvildansarioglu/Desktop/Lessons/fibonacci_numbers.ipynb#ch0000002?line=2'>3</a>\u001b[0m \u001b[39mfor\u001b[39;00m i \u001b[39min\u001b[39;00m \u001b[39mrange\u001b[39m(\u001b[39mlist\u001b[39;49m(\u001b[39m1\u001b[39;49m,\u001b[39m55\u001b[39;49m)):\n\u001b[1;32m      <a href='vscode-notebook-cell:/Users/hilalvildansarioglu/Desktop/Lessons/fibonacci_numbers.ipynb#ch0000002?line=3'>4</a>\u001b[0m     fibonacci_numbers\u001b[39m.\u001b[39mappend(fibonacci_numbers[i\u001b[39m-\u001b[39m\u001b[39m1\u001b[39m]\u001b[39m+\u001b[39mfibonacci_numbers[i\u001b[39m-\u001b[39m\u001b[39m2\u001b[39m])\n\u001b[1;32m      <a href='vscode-notebook-cell:/Users/hilalvildansarioglu/Desktop/Lessons/fibonacci_numbers.ipynb#ch0000002?line=4'>5</a>\u001b[0m     \u001b[39mprint\u001b[39m(fibonacci_numbers)\n",
      "\u001b[0;31mTypeError\u001b[0m: list expected at most 1 argument, got 2"
     ]
    }
   ],
   "source": [
    "fibonacci_numbers = [0,1]\n",
    "print(fibonacci_numbers)\n",
    "for i in range(list(1,55)):\n",
    "    fibonacci_numbers.append(fibonacci_numbers[i-1]+fibonacci_numbers[i-2])\n",
    "    print(fibonacci_numbers)"
   ]
  },
  {
   "cell_type": "code",
   "execution_count": 26,
   "metadata": {},
   "outputs": [
    {
     "name": "stdout",
     "output_type": "stream",
     "text": [
      "0 1 1 2 3 5 8 13 21 34 55 "
     ]
    }
   ],
   "source": [
    "first=third=0\n",
    "second=1\n",
    "print(first,second,end=' ')\n",
    "for i in range(3,n+1):\n",
    "    third=first+second\n",
    "    print(third,end=' ')\n",
    "    first=second\n",
    "    second=third"
   ]
  }
 ],
 "metadata": {
  "interpreter": {
   "hash": "aee8b7b246df8f9039afb4144a1f6fd8d2ca17a180786b69acc140d282b71a49"
  },
  "kernelspec": {
   "display_name": "Python 3.10.4 64-bit",
   "language": "python",
   "name": "python3"
  },
  "language_info": {
   "codemirror_mode": {
    "name": "ipython",
    "version": 3
   },
   "file_extension": ".py",
   "mimetype": "text/x-python",
   "name": "python",
   "nbconvert_exporter": "python",
   "pygments_lexer": "ipython3",
   "version": "3.10.4"
  },
  "orig_nbformat": 4
 },
 "nbformat": 4,
 "nbformat_minor": 2
}
