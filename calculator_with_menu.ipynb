{
 "cells": [
  {
   "cell_type": "code",
   "execution_count": null,
   "metadata": {},
   "outputs": [],
   "source": [
    "## menülü calculator\n",
    "## işlemi seç\n",
    "def menu():\n",
    "    print(\"\"\"\n",
    "        [+]-Toplama\\n\n",
    "        [-]-Çıkarma\\n\n",
    "        [*]-Çarpma\\n\n",
    "        [\\]-Bölme   \"\"\")\n",
    "def calculator(x, y, operator):\n",
    "    if operator==\"+\":\n",
    "        sonuc = x+y\n",
    "    elif operator==\"-\":\n",
    "        sonuc = x-y\n",
    "    elif operator==\"*\":\n",
    "        sonuc = x*y\n",
    "    elif operator==\"/\":\n",
    "        sonuc = x/y\n",
    "    else:\n",
    "        sonuc = \"Hatalı işlem!\"\n",
    "    return sonuc\n",
    "#Ana program\n",
    "while True:\n",
    "    menu()\n",
    "    a = float(input(\"1.sayı..:\"))\n",
    "    b = float(input(\"2.sayı..:\"))\n",
    "    operator = input(\"Menüden işlemi seç..:\")\n",
    "    sonuc = calculator(a, b, operator)\n",
    "    print(\"Sonuç..:\", sonuc)\n",
    "    cvp = input(\"İşleme devam etmek istiyormusunuz[E/H]..:\")\n",
    "    if cvp.lower()!=\"e\":\n",
    "        print(\"program sonlandırıldı\")\n",
    "        break #Eğer cevap \"e\" değlse programdan çık"
   ]
  }
 ],
 "metadata": {
  "language_info": {
   "name": "python"
  },
  "orig_nbformat": 4
 },
 "nbformat": 4,
 "nbformat_minor": 2
}
