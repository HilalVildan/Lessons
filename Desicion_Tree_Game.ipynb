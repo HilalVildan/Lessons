{
 "cells": [
  {
   "cell_type": "code",
   "execution_count": 12,
   "metadata": {},
   "outputs": [
    {
     "name": "stdout",
     "output_type": "stream",
     "text": [
      "Choose an animal ['cat', 'bird', 'fish', 'giraffe']\n",
      "this animal is GIRAFFE\n"
     ]
    }
   ],
   "source": [
    "##Decision Tree Game\n",
    "\n",
    "list = [\"cat\", \"bird\", \"fish\", \"giraffe\"]\n",
    "while True:\n",
    "    game = input(\"Are you ready for decision game?..:y-n\" )\n",
    "    if game == \"y\":\n",
    "        print(\"Choose an animal\" , list)\n",
    "        while True:\n",
    "            Q1 = input(\"Did you choose?..:y-n\" )\n",
    "            if Q1 == \"y\":\n",
    "                Q2 = input(\"is that animal with 4 legs?..:y-n\")\n",
    "                if Q2 == \"y\":\n",
    "                    Q3 = input(\"is that animal too long?..:y-n\")\n",
    "                    if Q3 == \"y\":\n",
    "                        print(\"this animal is GIRAFFE\")\n",
    "                        break\n",
    "                    else :\n",
    "                        print(\"this animal is CAT!\")\n",
    "                        break\n",
    "                else :\n",
    "                    Q4 = input(\"can fly that animal?...y-n\")\n",
    "                    if Q4 == \"y\":\n",
    "                        print(\"this animal is BIRD!\")\n",
    "                        break\n",
    "                    else:\n",
    "                        while True:\n",
    "                            Q5 = input(\"can swim this animal?..y-n\")\n",
    "                            if Q5 == \"y\":\n",
    "                                print(\"this animal is FISH!\")\n",
    "                                break               \n",
    "            break\n",
    "        break\n",
    "    else :\n",
    "        print(\"Game Over\")\n",
    "        break\n"
   ]
  }
 ],
 "metadata": {
  "interpreter": {
   "hash": "aee8b7b246df8f9039afb4144a1f6fd8d2ca17a180786b69acc140d282b71a49"
  },
  "kernelspec": {
   "display_name": "Python 3.10.4 64-bit",
   "language": "python",
   "name": "python3"
  },
  "language_info": {
   "codemirror_mode": {
    "name": "ipython",
    "version": 3
   },
   "file_extension": ".py",
   "mimetype": "text/x-python",
   "name": "python",
   "nbconvert_exporter": "python",
   "pygments_lexer": "ipython3",
   "version": "3.10.4"
  },
  "orig_nbformat": 4
 },
 "nbformat": 4,
 "nbformat_minor": 2
}
